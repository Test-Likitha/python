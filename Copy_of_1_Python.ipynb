{
  "nbformat": 4,
  "nbformat_minor": 0,
  "metadata": {
    "kernelspec": {
      "name": "python3",
      "display_name": "Python 3",
      "language": "python"
    },
    "language_info": {
      "mimetype": "text/x-python",
      "nbconvert_exporter": "python",
      "name": "python",
      "pygments_lexer": "ipython3",
      "version": "3.5.4",
      "file_extension": ".py",
      "codemirror_mode": {
        "version": 3,
        "name": "ipython"
      }
    },
    "colab": {
      "name": "Copy of 1-Python.ipynb",
      "provenance": [],
      "collapsed_sections": [],
      "include_colab_link": true
    }
  },
  "cells": [
    {
      "cell_type": "markdown",
      "metadata": {
        "id": "view-in-github",
        "colab_type": "text"
      },
      "source": [
        "<a href=\"https://colab.research.google.com/github/likitha123-bp/knn/blob/master/Copy_of_1_Python.ipynb\" target=\"_parent\"><img src=\"https://colab.research.google.com/assets/colab-badge.svg\" alt=\"Open In Colab\"/></a>"
      ]
    },
    {
      "cell_type": "markdown",
      "metadata": {
        "id": "vzu-uYrZJngX",
        "colab_type": "text"
      },
      "source": [
        "# Introduction to Python\n",
        "\n",
        "Since its first release in 1991, Python has risen to become not just a popular general-purpose programming language, but a preeminent computer language for data science.\n",
        "\n",
        "Several examples in this notebook draw from the [python.org introductory tutorial](https://docs.python.org/3.5/tutorial/introduction.html) and examples given in the [Python 3 documentation](https://docs.python.org/3/) (with edits and amendments). This introduction to Python is written for Python 3.6.7 but is generally applicable to other Python 3.x versions. \n",
        "\n",
        "Original material from python.org is Copyright (c) 2001-2019 Python Software Foundation.\n",
        "\n",
        "\n",
        "\n",
        "Jupyter Notebooks are divided into cells. Each cell contains either text written in the Markdown markup language or a space in which to write and execute computer code. Because all the code resides inside code cells, you can run each code cell inline rather than using a separate Python interactive window.\n",
        "\n",
        "> **Note**: This notebook is designed to have you run code cells one by one, and several code cells contain deliberate errors for demonstration purposes. As a result, if you use the **Cell** > **Run All** command, some code cells past the error won't be run. To resume running the code in each case, use **Cell** > **Run All Below** from the cell after the error."
      ]
    },
    {
      "cell_type": "code",
      "metadata": {
        "id": "RI-RfyDDc7kW",
        "colab_type": "code",
        "colab": {}
      },
      "source": [
        ""
      ],
      "execution_count": null,
      "outputs": []
    },
    {
      "cell_type": "markdown",
      "metadata": {
        "id": "Ew3hEbsUc8Dy",
        "colab_type": "text"
      },
      "source": [
        ""
      ]
    },
    {
      "cell_type": "code",
      "metadata": {
        "id": "hz54CR_9c8md",
        "colab_type": "code",
        "colab": {}
      },
      "source": [
        ""
      ],
      "execution_count": null,
      "outputs": []
    },
    {
      "cell_type": "code",
      "metadata": {
        "id": "EoqLC8vpZXxy",
        "colab_type": "code",
        "colab": {}
      },
      "source": [
        ""
      ],
      "execution_count": null,
      "outputs": []
    },
    {
      "cell_type": "markdown",
      "metadata": {
        "id": "4_MCjB16JngZ",
        "colab_type": "text"
      },
      "source": [
        "## Comments\n",
        "\n",
        "Many of the examples in this notebook include comments. Comments in Python start with the hash character (`#`) and extend to the end of the physical line. A comment may appear at the start of a line or following white space or code, but not within a string literal. A hash character within a string literal is just a hash character. Because comments are there to clarify code and are not interpreted by Python, they may be omitted when typing in examples. For example:"
      ]
    },
    {
      "cell_type": "code",
      "metadata": {
        "trusted": true,
        "id": "yHyoztXKJnga",
        "colab_type": "code",
        "colab": {
          "base_uri": "https://localhost:8080/",
          "height": 34
        },
        "outputId": "7c573484-df4d-44f8-d238-a6f07f19d915"
      },
      "source": [
        "# this is the first comment\n",
        "spam = 1  # and this is the second comment\n",
        "          # ... and now a third!\n",
        "text = \"this is a comment\"\n",
        "print(text)"
      ],
      "execution_count": 1,
      "outputs": [
        {
          "output_type": "stream",
          "text": [
            "this is a comment\n"
          ],
          "name": "stdout"
        }
      ]
    },
    {
      "cell_type": "markdown",
      "metadata": {
        "id": "AgUC_NjNJnge",
        "colab_type": "text"
      },
      "source": [
        "## Python basics\n",
        "\n",
        "This section will provide you with a foundational understanding of Python syntax and data types."
      ]
    },
    {
      "cell_type": "markdown",
      "metadata": {
        "id": "6qQhu4QcJngf",
        "colab_type": "text"
      },
      "source": [
        "### Arithmetic and numeric types\n",
        "\n",
        "> **Learning goal:** By the end of this subsection, you should be comfortable with using numeric types in Python arithmetic.\n",
        "\n",
        "Python is an interpreted language, which means that you can interactively use the interpreter to get immediate results. You can see this by using the Python interpreter as a simple calculator: type an expression, and you can see the output immediately.\n",
        "\n",
        "How can you see the results? The Python interpreter runs inside this notebook. To run the code inside a cell, either click the **Run Cell** button at the top of the window or press **Ctrl**+**Enter**. Try running the contents of the cell below. (Don't worry, we'll cover what the syntax of the Python code means later on in this section.)"
      ]
    },
    {
      "cell_type": "code",
      "metadata": {
        "trusted": true,
        "id": "-ek4m6NbJngi",
        "colab_type": "code",
        "colab": {
          "base_uri": "https://localhost:8080/",
          "height": 34
        },
        "outputId": "c56dd898-fd1b-4b41-df7c-f5490cc8698b"
      },
      "source": [
        "print(\"hello.\")"
      ],
      "execution_count": 2,
      "outputs": [
        {
          "output_type": "stream",
          "text": [
            "hello.\n"
          ],
          "name": "stdout"
        }
      ]
    },
    {
      "cell_type": "markdown",
      "metadata": {
        "id": "_mmwLwHiJngl",
        "colab_type": "text"
      },
      "source": [
        "#### Python numeric operators\n",
        "\n",
        "Expression syntax is straightforward: the operators `+`, `-`, `*`, and `/` work just like in most other programming languages (such as Java or C). For example:"
      ]
    },
    {
      "cell_type": "code",
      "metadata": {
        "trusted": true,
        "id": "Mly3uoiiJngm",
        "colab_type": "code",
        "colab": {
          "base_uri": "https://localhost:8080/",
          "height": 34
        },
        "outputId": "b1fae559-4bb1-4f1e-dcde-b38a30294b15"
      },
      "source": [
        "3 + 6"
      ],
      "execution_count": 3,
      "outputs": [
        {
          "output_type": "execute_result",
          "data": {
            "text/plain": [
              "9"
            ]
          },
          "metadata": {
            "tags": []
          },
          "execution_count": 3
        }
      ]
    },
    {
      "cell_type": "markdown",
      "metadata": {
        "id": "WxmScuz5Jngp",
        "colab_type": "text"
      },
      "source": [
        "The order of operations also works as in other programming languages (and in math class):"
      ]
    },
    {
      "cell_type": "code",
      "metadata": {
        "trusted": true,
        "id": "oH7s3uD3Jngr",
        "colab_type": "code",
        "colab": {
          "base_uri": "https://localhost:8080/",
          "height": 34
        },
        "outputId": "a4c4f812-4a1f-4732-b62a-72a375dea55c"
      },
      "source": [
        "30 - 4 * 5"
      ],
      "execution_count": 4,
      "outputs": [
        {
          "output_type": "execute_result",
          "data": {
            "text/plain": [
              "10"
            ]
          },
          "metadata": {
            "tags": []
          },
          "execution_count": 4
        }
      ]
    },
    {
      "cell_type": "markdown",
      "metadata": {
        "id": "wAku4nHqJngu",
        "colab_type": "text"
      },
      "source": [
        "Note what happens when you use division:"
      ]
    },
    {
      "cell_type": "markdown",
      "metadata": {
        "id": "AuCr3zpmJng3",
        "colab_type": "text"
      },
      "source": [
        "Division (`/`) always returns a floating-point number, which brings up a good point. Python (like other programming languages) has different numeric types. Integer numbers (such as `1`, `3`, and `20`) have type [`int`](https://docs.python.org/3.6/library/functions.html#int). Numbers with a fractional component (such as `3.0` or `1.6`) have type [`float`](https://docs.python.org/3.5/library/functions.html#float).\n",
        "\n",
        "You can mix numeric types in calculations:"
      ]
    },
    {
      "cell_type": "code",
      "metadata": {
        "trusted": true,
        "id": "a9SPlilBJng4",
        "colab_type": "code",
        "colab": {
          "base_uri": "https://localhost:8080/",
          "height": 34
        },
        "outputId": "a4e74201-2d18-4380-f00b-74a3d09bc3ba"
      },
      "source": [
        "3 * 3.5"
      ],
      "execution_count": 5,
      "outputs": [
        {
          "output_type": "execute_result",
          "data": {
            "text/plain": [
              "10.5"
            ]
          },
          "metadata": {
            "tags": []
          },
          "execution_count": 5
        }
      ]
    },
    {
      "cell_type": "code",
      "metadata": {
        "trusted": true,
        "id": "gvDTRV2HJng6",
        "colab_type": "code",
        "colab": {
          "base_uri": "https://localhost:8080/",
          "height": 34
        },
        "outputId": "d06768d5-35c1-4eaf-f542-19b86b5ee39a"
      },
      "source": [
        "7.0 / 5"
      ],
      "execution_count": 6,
      "outputs": [
        {
          "output_type": "execute_result",
          "data": {
            "text/plain": [
              "1.4"
            ]
          },
          "metadata": {
            "tags": []
          },
          "execution_count": 6
        }
      ]
    },
    {
      "cell_type": "markdown",
      "metadata": {
        "id": "p_auiPdVJng-",
        "colab_type": "text"
      },
      "source": [
        "You can perform a type of division that returns an integer: [floor division](https://docs.python.org/3.6/glossary.html#term-floor-division). Floor division uses the `//` operator, discards any remainders, and just returns an `int`."
      ]
    },
    {
      "cell_type": "code",
      "metadata": {
        "trusted": true,
        "id": "KtyRBWGcJng_",
        "colab_type": "code",
        "colab": {
          "base_uri": "https://localhost:8080/",
          "height": 34
        },
        "outputId": "bf165a91-8151-470b-8d47-22e5f74f9a76"
      },
      "source": [
        "10 //3 "
      ],
      "execution_count": 7,
      "outputs": [
        {
          "output_type": "execute_result",
          "data": {
            "text/plain": [
              "3"
            ]
          },
          "metadata": {
            "tags": []
          },
          "execution_count": 7
        }
      ]
    },
    {
      "cell_type": "markdown",
      "metadata": {
        "id": "6D-f4RjzJnhD",
        "colab_type": "text"
      },
      "source": [
        "To calculate the remainder, you can use the modulo operator, `%`:"
      ]
    },
    {
      "cell_type": "code",
      "metadata": {
        "trusted": true,
        "id": "V_aAd7TiJnhF",
        "colab_type": "code",
        "colab": {
          "base_uri": "https://localhost:8080/",
          "height": 34
        },
        "outputId": "b050656d-415d-47e6-e9a2-7185e30a6189"
      },
      "source": [
        "7 % 5"
      ],
      "execution_count": 8,
      "outputs": [
        {
          "output_type": "execute_result",
          "data": {
            "text/plain": [
              "2"
            ]
          },
          "metadata": {
            "tags": []
          },
          "execution_count": 8
        }
      ]
    },
    {
      "cell_type": "markdown",
      "metadata": {
        "id": "jjhwYe8ZJnhI",
        "colab_type": "text"
      },
      "source": [
        "For exponents, use the `**` operator. For example, you can write $5^2$ as:"
      ]
    },
    {
      "cell_type": "code",
      "metadata": {
        "trusted": true,
        "id": "hQyZyslNJnhJ",
        "colab_type": "code",
        "colab": {
          "base_uri": "https://localhost:8080/",
          "height": 34
        },
        "outputId": "3949487d-e74c-497a-8b93-0bb96d686c04"
      },
      "source": [
        "5 **4 "
      ],
      "execution_count": 9,
      "outputs": [
        {
          "output_type": "execute_result",
          "data": {
            "text/plain": [
              "625"
            ]
          },
          "metadata": {
            "tags": []
          },
          "execution_count": 9
        }
      ]
    },
    {
      "cell_type": "markdown",
      "metadata": {
        "id": "93GA6rnYJnhM",
        "colab_type": "text"
      },
      "source": [
        "Conversely, $2^5$ would be:"
      ]
    },
    {
      "cell_type": "code",
      "metadata": {
        "trusted": true,
        "id": "fdZAGyoKJnhN",
        "colab_type": "code",
        "colab": {
          "base_uri": "https://localhost:8080/",
          "height": 34
        },
        "outputId": "c894ad70-2f4d-447b-eeb3-58a70f95f72a"
      },
      "source": [
        "2 ** 5"
      ],
      "execution_count": 10,
      "outputs": [
        {
          "output_type": "execute_result",
          "data": {
            "text/plain": [
              "32"
            ]
          },
          "metadata": {
            "tags": []
          },
          "execution_count": 10
        }
      ]
    },
    {
      "cell_type": "markdown",
      "metadata": {
        "id": "u0jBZfMkJnhQ",
        "colab_type": "text"
      },
      "source": [
        "Note that `**` has higher precedence in the order of operations than the negative sign, `-`. This means that $-5^2$ is actually the same thing as $-\\left(5^2\\right)$:"
      ]
    },
    {
      "cell_type": "code",
      "metadata": {
        "trusted": true,
        "id": "qdrRfev1JnhR",
        "colab_type": "code",
        "colab": {
          "base_uri": "https://localhost:8080/",
          "height": 34
        },
        "outputId": "b56943b5-7191-4bb8-a452-f87d11370de9"
      },
      "source": [
        "5 ** 2"
      ],
      "execution_count": 11,
      "outputs": [
        {
          "output_type": "execute_result",
          "data": {
            "text/plain": [
              "25"
            ]
          },
          "metadata": {
            "tags": []
          },
          "execution_count": 11
        }
      ]
    },
    {
      "cell_type": "markdown",
      "metadata": {
        "id": "SBqfPlUOJnhV",
        "colab_type": "text"
      },
      "source": [
        "In order to assert the order of precedence that you want, use parentheses, `()`:"
      ]
    },
    {
      "cell_type": "code",
      "metadata": {
        "trusted": true,
        "id": "y3g14NOxJnhW",
        "colab_type": "code",
        "colab": {
          "base_uri": "https://localhost:8080/",
          "height": 34
        },
        "outputId": "1af28c86-ed5a-4e08-acaf-be7dfe771b5a"
      },
      "source": [
        "(-5) ** 2"
      ],
      "execution_count": 12,
      "outputs": [
        {
          "output_type": "execute_result",
          "data": {
            "text/plain": [
              "25"
            ]
          },
          "metadata": {
            "tags": []
          },
          "execution_count": 12
        }
      ]
    },
    {
      "cell_type": "markdown",
      "metadata": {
        "id": "fgtzYHSkJnhZ",
        "colab_type": "text"
      },
      "source": [
        "Parentheses can supersede the order of operations in any calculation you need to run:"
      ]
    },
    {
      "cell_type": "code",
      "metadata": {
        "trusted": true,
        "id": "del1nT8xJnha",
        "colab_type": "code",
        "colab": {
          "base_uri": "https://localhost:8080/",
          "height": 34
        },
        "outputId": "6730211d-c3b2-46a0-9cee-baec6c6e762d"
      },
      "source": [
        "(30 - 4) * 5"
      ],
      "execution_count": 13,
      "outputs": [
        {
          "output_type": "execute_result",
          "data": {
            "text/plain": [
              "130"
            ]
          },
          "metadata": {
            "tags": []
          },
          "execution_count": 13
        }
      ]
    },
    {
      "cell_type": "markdown",
      "metadata": {
        "id": "zATw5_jHJnhd",
        "colab_type": "text"
      },
      "source": [
        "### Variables\n",
        "\n",
        "As in other programming languages, it is often essential to save values for later using variables in Python. Python assigns values to variables using the equals sign (`=`):"
      ]
    },
    {
      "cell_type": "code",
      "metadata": {
        "trusted": true,
        "id": "NbsLRTo1Jnhe",
        "colab_type": "code",
        "colab": {
          "base_uri": "https://localhost:8080/",
          "height": 34
        },
        "outputId": "795e5b7e-dd7f-4b08-da71-c12a5942464a"
      },
      "source": [
        "length = 15\n",
        "width = 3 * 5\n",
        "length * width"
      ],
      "execution_count": 14,
      "outputs": [
        {
          "output_type": "execute_result",
          "data": {
            "text/plain": [
              "225"
            ]
          },
          "metadata": {
            "tags": []
          },
          "execution_count": 14
        }
      ]
    },
    {
      "cell_type": "markdown",
      "metadata": {
        "id": "g1Ntt1DaJnhi",
        "colab_type": "text"
      },
      "source": [
        "If you come from a programming background in another programming language (such as Java), you might have noticed that we never specified the variable type when we declared our variables `length` and `width`. Python does not require this, and you can change variable types as you wish:"
      ]
    },
    {
      "cell_type": "code",
      "metadata": {
        "trusted": true,
        "id": "gQf2K6MwJnhj",
        "colab_type": "code",
        "colab": {
          "base_uri": "https://localhost:8080/",
          "height": 34
        },
        "outputId": "1bbc9a91-d812-4060-840a-3a337d118f52"
      },
      "source": [
        "length = 15\n",
        "length"
      ],
      "execution_count": 15,
      "outputs": [
        {
          "output_type": "execute_result",
          "data": {
            "text/plain": [
              "15"
            ]
          },
          "metadata": {
            "tags": []
          },
          "execution_count": 15
        }
      ]
    },
    {
      "cell_type": "code",
      "metadata": {
        "trusted": true,
        "id": "Iz5-9vP-Jnho",
        "colab_type": "code",
        "colab": {
          "base_uri": "https://localhost:8080/",
          "height": 34
        },
        "outputId": "ebe987f1-02a3-4f60-c99f-70d3155eca02"
      },
      "source": [
        "length = 15.0\n",
        "length"
      ],
      "execution_count": 16,
      "outputs": [
        {
          "output_type": "execute_result",
          "data": {
            "text/plain": [
              "15.0"
            ]
          },
          "metadata": {
            "tags": []
          },
          "execution_count": 16
        }
      ]
    },
    {
      "cell_type": "code",
      "metadata": {
        "trusted": true,
        "id": "R7nPARtHJnhq",
        "colab_type": "code",
        "colab": {
          "base_uri": "https://localhost:8080/",
          "height": 35
        },
        "outputId": "1e0639cd-3ebf-4615-c740-b5cdaeb445f3"
      },
      "source": [
        "length = \"fifteen\"\n",
        "length"
      ],
      "execution_count": 17,
      "outputs": [
        {
          "output_type": "execute_result",
          "data": {
            "application/vnd.google.colaboratory.intrinsic": {
              "type": "string"
            },
            "text/plain": [
              "'fifteen'"
            ]
          },
          "metadata": {
            "tags": []
          },
          "execution_count": 17
        }
      ]
    },
    {
      "cell_type": "markdown",
      "metadata": {
        "id": "T58UNoEvJnhs",
        "colab_type": "text"
      },
      "source": [
        "Note that, for all the flexibility of variables in Python, you do have to define them. If you try to use an undefined variable, it will produce an error:"
      ]
    },
    {
      "cell_type": "code",
      "metadata": {
        "trusted": true,
        "id": "qdU5yHRxJnht",
        "colab_type": "code",
        "colab": {
          "base_uri": "https://localhost:8080/",
          "height": 162
        },
        "outputId": "9057866d-1c87-4686-9b8e-0202b5afe8a8"
      },
      "source": [
        "n"
      ],
      "execution_count": 18,
      "outputs": [
        {
          "output_type": "error",
          "ename": "NameError",
          "evalue": "ignored",
          "traceback": [
            "\u001b[0;31m---------------------------------------------------------------------------\u001b[0m",
            "\u001b[0;31mNameError\u001b[0m                                 Traceback (most recent call last)",
            "\u001b[0;32m<ipython-input-18-ab0680a89434>\u001b[0m in \u001b[0;36m<module>\u001b[0;34m()\u001b[0m\n\u001b[0;32m----> 1\u001b[0;31m \u001b[0mn\u001b[0m\u001b[0;34m\u001b[0m\u001b[0;34m\u001b[0m\u001b[0m\n\u001b[0m",
            "\u001b[0;31mNameError\u001b[0m: name 'n' is not defined"
          ]
        }
      ]
    },
    {
      "cell_type": "markdown",
      "metadata": {
        "id": "4y5X2u8iJnhw",
        "colab_type": "text"
      },
      "source": [
        "In Python's interactive mode and in Jupyter Notebooks, you can use the built-in variable `_`, which automatically takes the value of the last printed expression. For example:"
      ]
    },
    {
      "cell_type": "code",
      "metadata": {
        "id": "ckmHhE9lLRh4",
        "colab_type": "code",
        "colab": {}
      },
      "source": [
        "length = 22\n",
        "width = 7\n",
        "price=10\n",
        "length / width\n"
      ],
      "execution_count": null,
      "outputs": []
    },
    {
      "cell_type": "code",
      "metadata": {
        "trusted": true,
        "id": "g0V_ll96Jnh0",
        "colab_type": "code",
        "colab": {}
      },
      "source": [
        "price + _"
      ],
      "execution_count": null,
      "outputs": []
    },
    {
      "cell_type": "markdown",
      "metadata": {
        "id": "7mND4hgHJnh3",
        "colab_type": "text"
      },
      "source": [
        "Note that you should always treat the `_` variable as read-only. Explicitly assigning a value to it will create an independent local variable with the same name and will mask the built-in variable (and its behavior).\n",
        "\n",
        "Our previous output was kind of a mess, however; we generally use only two or fewer decimal points when working with prices. In order to clean this up, we can use a built-in function, `round()`."
      ]
    },
    {
      "cell_type": "code",
      "metadata": {
        "trusted": true,
        "id": "xmYy8-gYJnh4",
        "colab_type": "code",
        "colab": {}
      },
      "source": [
        "round(_, 4)"
      ],
      "execution_count": null,
      "outputs": []
    },
    {
      "cell_type": "markdown",
      "metadata": {
        "id": "-n7qJMRIJnh7",
        "colab_type": "text"
      },
      "source": [
        "We will cover some of the other functions built into Python later in this section and cover user-defined functions in Section 2.\n",
        "\n",
        "You do not have to define variables one at a time. You can define multiple variables on a single line, like so:"
      ]
    },
    {
      "cell_type": "code",
      "metadata": {
        "trusted": true,
        "id": "BZKUPnvgJnh9",
        "colab_type": "code",
        "colab": {}
      },
      "source": [
        "a, b, c, = 3, 3.444, 6.9089\n",
        "a, b, c"
      ],
      "execution_count": null,
      "outputs": []
    },
    {
      "cell_type": "markdown",
      "metadata": {
        "id": "cHKMV-7XJniA",
        "colab_type": "text"
      },
      "source": [
        "You can also augment variable assignments. This will be particularly useful when we tackle loops in the next section."
      ]
    },
    {
      "cell_type": "code",
      "metadata": {
        "trusted": true,
        "id": "wkiRP20YJniB",
        "colab_type": "code",
        "colab": {}
      },
      "source": [
        "x = 5\n",
        "x = x + 2  # Un-pythonic variable augmentation\n",
        "x+=3  # Pythonic variable augmentation\n",
        "x"
      ],
      "execution_count": null,
      "outputs": []
    },
    {
      "cell_type": "markdown",
      "metadata": {
        "id": "qi4VugykJniI",
        "colab_type": "text"
      },
      "source": [
        "Note that augmented assignment doesn’t have to be by 1 or even just addition. Beyond +=, augmented assignment statements in Python include -=, \\*=, /=, %=, and \\**=. Try playing around with different augmentation assignments until this concept makes sense.\n",
        "\n",
        "Python supports other types of numbers beyond `int` and `float`, such as [`Decimal`](https://docs.python.org/3.6/library/decimal.html#decimal.Decimal) and [`Fraction`](https://docs.python.org/3.6/library/fractions.html#fractions.Fraction). Python also has built-in support for [complex numbers](https://docs.python.org/3.6/library/stdtypes.html#typesnumeric), which are all beyond the scope of this course."
      ]
    },
    {
      "cell_type": "markdown",
      "metadata": {
        "id": "N62j08_5JniJ",
        "colab_type": "text"
      },
      "source": [
        "### Expressions\n",
        "\n",
        "As with other programming languages, expressions are critical for decision making controlling the logical flow of Python programs. The most fundamental way of doing this in Python is with a comparison operator, such as \"`<`\":"
      ]
    },
    {
      "cell_type": "code",
      "metadata": {
        "trusted": true,
        "id": "lJfgxXGiJniK",
        "colab_type": "code",
        "colab": {}
      },
      "source": [
        "2.333 < 2.3456"
      ],
      "execution_count": null,
      "outputs": []
    },
    {
      "cell_type": "markdown",
      "metadata": {
        "id": "GYYSSHQwJniN",
        "colab_type": "text"
      },
      "source": [
        "Python supplies serveral comparison operators:"
      ]
    },
    {
      "cell_type": "markdown",
      "metadata": {
        "id": "_dJh4B5BJniO",
        "colab_type": "text"
      },
      "source": [
        "<center>**Python Comparison Operators**</center>"
      ]
    },
    {
      "cell_type": "code",
      "metadata": {
        "id": "oVVUdhPWWyUo",
        "colab_type": "code",
        "colab": {}
      },
      "source": [
        ""
      ],
      "execution_count": null,
      "outputs": []
    },
    {
      "cell_type": "markdown",
      "metadata": {
        "id": "k2qt-juNJniP",
        "colab_type": "text"
      },
      "source": [
        "| Operator |      Description      | Sample Input | Sample Output |\n",
        "|:--------:|:---------------------:|:------------:|:-------------:|\n",
        "| `<`      | Less than             | `2 < 5`      | `True`        |\n",
        "| `>`      | Greater than          | `2 > 5`      | `False`       |\n",
        "| `<=`     | Less than or equal    | `2 <= 5`     | `True`        |\n",
        "|          |                       | `2 <= 2`     | `True`        |\n",
        "| `>=`     | Greater than or equal | `2 >= 5`     | `False`       |\n",
        "| `==`     | Equality              | `2 == 2`     | `True`        |\n",
        "|          |                       | `2 == 5`     | `False`       |\n",
        "| `!=`     | Inequality            | `2 != 5`     | `True`        |\n",
        "|          |                       | `2 != 2`     | `False`       |"
      ]
    },
    {
      "cell_type": "markdown",
      "metadata": {
        "id": "JoBecM8TJniP",
        "colab_type": "text"
      },
      "source": [
        "Python does not restrict you to comparing just two operands at a time. For example:"
      ]
    },
    {
      "cell_type": "code",
      "metadata": {
        "trusted": true,
        "id": "ENjK8zYiJniQ",
        "colab_type": "code",
        "colab": {}
      },
      "source": [
        "a, b, c = 1, 2, 3\n",
        "a > b < c"
      ],
      "execution_count": null,
      "outputs": []
    },
    {
      "cell_type": "markdown",
      "metadata": {
        "id": "Lti7XcrQJniS",
        "colab_type": "text"
      },
      "source": [
        "This entire expression is `True` because `1 < 2` is `True` and `2 < 3` is `True`.\n",
        "\n",
        "You can also use built-in functions in Python for comparing data. For example:"
      ]
    },
    {
      "cell_type": "code",
      "metadata": {
        "trusted": true,
        "id": "rlbOMHzwJniT",
        "colab_type": "code",
        "colab": {}
      },
      "source": [
        "min(3, 2.4, 5)"
      ],
      "execution_count": null,
      "outputs": []
    },
    {
      "cell_type": "code",
      "metadata": {
        "trusted": true,
        "id": "eOx3a6QuJniV",
        "colab_type": "code",
        "colab": {}
      },
      "source": [
        "max(3, 2.4, 5)"
      ],
      "execution_count": null,
      "outputs": []
    },
    {
      "cell_type": "markdown",
      "metadata": {
        "id": "SyZfCAImJniY",
        "colab_type": "text"
      },
      "source": [
        "You can also combine comparison operators into compound expressions. For example:"
      ]
    },
    {
      "cell_type": "code",
      "metadata": {
        "trusted": true,
        "id": "7cbKzIckJniZ",
        "colab_type": "code",
        "colab": {}
      },
      "source": [
        "1 > 2 and 2 < 3"
      ],
      "execution_count": null,
      "outputs": []
    },
    {
      "cell_type": "markdown",
      "metadata": {
        "id": "0cTXrIKEJnic",
        "colab_type": "text"
      },
      "source": [
        "This compound expression returned `True` because **both** `1 < 2` is true and `2 < 3` is true. (Note that this is equivalent to `1 < 2 < 3`.)\n",
        "\n",
        "### Exercise:"
      ]
    },
    {
      "cell_type": "code",
      "metadata": {
        "trusted": true,
        "id": "TNxfTQpGJnid",
        "colab_type": "code",
        "colab": {}
      },
      "source": [
        "# Now flip around one of the simple expressions and see if the output matches your expectations:\n",
        "1 < 2 and 3 < 2"
      ],
      "execution_count": null,
      "outputs": []
    },
    {
      "cell_type": "markdown",
      "metadata": {
        "id": "XMVj6d8lJnig",
        "colab_type": "text"
      },
      "source": [
        "Python also provides the `or` Boolean operator, which requires that only one simple expression in a compound expression be true in order to return `True`. For example:"
      ]
    },
    {
      "cell_type": "code",
      "metadata": {
        "trusted": true,
        "id": "sbokC4xEJnih",
        "colab_type": "code",
        "colab": {}
      },
      "source": [
        "1 < 2 or 1 > 2"
      ],
      "execution_count": null,
      "outputs": []
    },
    {
      "cell_type": "markdown",
      "metadata": {
        "id": "Bxp3mMk7Jnil",
        "colab_type": "text"
      },
      "source": [
        "Finally, `not` inverts the truth evaluation of an expression, such as in:"
      ]
    },
    {
      "cell_type": "code",
      "metadata": {
        "trusted": true,
        "id": "M5lvZb3fJnio",
        "colab_type": "code",
        "colab": {}
      },
      "source": [
        "not (2 < 3)"
      ],
      "execution_count": null,
      "outputs": []
    },
    {
      "cell_type": "markdown",
      "metadata": {
        "id": "EcD6zAZHJniv",
        "colab_type": "text"
      },
      "source": [
        "### Exercise:"
      ]
    },
    {
      "cell_type": "code",
      "metadata": {
        "trusted": true,
        "id": "BcqbonvCJniw",
        "colab_type": "code",
        "colab": {}
      },
      "source": [
        "# Play around with compound expressions.\n",
        "# Set i to different values to see what results this complex compound expression returns:\n",
        "i = 7\n",
        "(i == 2) or not (i % 2 != 0 and 1 < i < 5)"
      ],
      "execution_count": null,
      "outputs": []
    },
    {
      "cell_type": "markdown",
      "metadata": {
        "id": "x7Y4QPHPJniy",
        "colab_type": "text"
      },
      "source": [
        "> **Takeaway:** Arithmetic operations on numeric data form the foundation of data science work in Python. Even sophisticated numeric operations are predicated on these basics, so mastering them is essential to doing data science."
      ]
    },
    {
      "cell_type": "markdown",
      "metadata": {
        "id": "JKswMd2lJni0",
        "colab_type": "text"
      },
      "source": [
        "## Strings\n",
        "\n",
        "> **Learning goal:** By the end of this subsection, you should be comfortable working with strings at a basic level in Python.\n",
        "\n",
        "Besides numbers, Python can also manipulate strings. Strings can be enclosed in single quotes (`'...'`) or double quotes (`\"...\"`) with the same result. Use `\\` to escape quotes; that is, use `\\` in order to use quotation marks within the string itself:"
      ]
    },
    {
      "cell_type": "code",
      "metadata": {
        "trusted": true,
        "id": "ZEKFIp-sJni1",
        "colab_type": "code",
        "colab": {}
      },
      "source": [
        "'spam eggs'  # Single quotes."
      ],
      "execution_count": null,
      "outputs": []
    },
    {
      "cell_type": "code",
      "metadata": {
        "trusted": true,
        "id": "-6ak7x0eJni7",
        "colab_type": "code",
        "colab": {}
      },
      "source": [
        "'doesn\\'t'  # Use \\' to escape the single quote..."
      ],
      "execution_count": null,
      "outputs": []
    },
    {
      "cell_type": "code",
      "metadata": {
        "trusted": true,
        "id": "HceVgKMMJni-",
        "colab_type": "code",
        "colab": {}
      },
      "source": [
        "\"doesn't\"  # ...or use double quotes instead."
      ],
      "execution_count": null,
      "outputs": []
    },
    {
      "cell_type": "markdown",
      "metadata": {
        "id": "SRs8TrI8JnjB",
        "colab_type": "text"
      },
      "source": [
        "In the interactive interpreter and Jupyter Notebooks, the output string is enclosed in quotes and special characters are escaped with backslashes. Although this output sometimes looks different from the input (the enclosing quotes could change), the two strings are equivalent. The string is enclosed in double quotes if the string contains a single quote and no double quotes; otherwise, it’s enclosed in single quotes. The [`print()`](https://docs.python.org/3.6/library/functions.html#print) function produces a more readable output by omitting the enclosing quotes and by printing escaped and special characters:"
      ]
    },
    {
      "cell_type": "code",
      "metadata": {
        "trusted": true,
        "id": "VAQXpBtMJnjB",
        "colab_type": "code",
        "colab": {}
      },
      "source": [
        "'\"Isn\\'t,\" she said.'"
      ],
      "execution_count": null,
      "outputs": []
    },
    {
      "cell_type": "code",
      "metadata": {
        "trusted": true,
        "id": "qnppe4NJJnjF",
        "colab_type": "code",
        "colab": {}
      },
      "source": [
        "print('\"Isn\\'t,\" she said.')"
      ],
      "execution_count": null,
      "outputs": []
    },
    {
      "cell_type": "markdown",
      "metadata": {
        "id": "nOm-a9bvJnjH",
        "colab_type": "text"
      },
      "source": [
        "If you don't want escaped characters (prefaced by `\\`) to be interpreted as special characters, use *raw strings* by adding an `r` before the first quote:"
      ]
    },
    {
      "cell_type": "code",
      "metadata": {
        "trusted": true,
        "id": "lootQltFJnjI",
        "colab_type": "code",
        "colab": {}
      },
      "source": [
        "print('C:abhi')  # Here \\n means newline!"
      ],
      "execution_count": null,
      "outputs": []
    },
    {
      "cell_type": "code",
      "metadata": {
        "trusted": true,
        "id": "3qmEuzZ2JnjO",
        "colab_type": "code",
        "colab": {}
      },
      "source": [
        "print(r'C:\\some\\name')  # Note the r before the quote."
      ],
      "execution_count": null,
      "outputs": []
    },
    {
      "cell_type": "markdown",
      "metadata": {
        "id": "owKniDYpJnjS",
        "colab_type": "text"
      },
      "source": [
        "### String literals\n",
        "\n",
        "String literals can span multiple lines and are delineated by triple-quotes: `\"\"\"...\"\"\"` or `'''...'''`.\n",
        "\n",
        "Because Python doesn't provide a means for creating multi-line comments, developers often just use triple quotes for this purpose. In a Jupyter notebook, however, such quotes define a string literal that appears as the output of a code cell:"
      ]
    },
    {
      "cell_type": "code",
      "metadata": {
        "trusted": true,
        "id": "tTqKAC9mJnjT",
        "colab_type": "code",
        "colab": {}
      },
      "source": [
        "'\\n Everything between the first three quotes, including new lines,\\n'\n",
        "'is part of the multi-line comment. Technically, the Python interpreter\\n'\n",
        "'simply sees the comment as a string, and because its not otherwise\\n'\n",
        "'used in code, the string is ignored. Convenient, eh?'"
      ],
      "execution_count": null,
      "outputs": []
    },
    {
      "cell_type": "markdown",
      "metadata": {
        "id": "rJb849OKJnjW",
        "colab_type": "text"
      },
      "source": [
        "For this reason, it's best in notebooks to use the # comment character at the beginning of each line, or better still, just use a Markdown cell outside of a code cell in a Jupyter notebook!\n",
        "\n",
        "Strings can be *concatenated* (glued together) with the + operator, and repeated with *:"
      ]
    },
    {
      "cell_type": "code",
      "metadata": {
        "trusted": true,
        "id": "hSsg9IWaJnjW",
        "colab_type": "code",
        "colab": {}
      },
      "source": [
        "# 3 times 'un', followed by 'ium'\n",
        "2 * 'iun' + 'ium'"
      ],
      "execution_count": null,
      "outputs": []
    },
    {
      "cell_type": "markdown",
      "metadata": {
        "id": "_ETlV7g4JnjY",
        "colab_type": "text"
      },
      "source": [
        "The order of operations applies to operators when they are used with strings as well as numeric types. Try experimenting with different combinations and orders of operators and strings to see what happens."
      ]
    },
    {
      "cell_type": "markdown",
      "metadata": {
        "id": "K1mO1-W3Jnja",
        "colab_type": "text"
      },
      "source": [
        "### Concatenating strings\n",
        "\n",
        "Two or more *string literals* placed next to each other are automatically concatenated:"
      ]
    },
    {
      "cell_type": "code",
      "metadata": {
        "trusted": true,
        "id": "erpLhb2LJnjb",
        "colab_type": "code",
        "colab": {}
      },
      "source": [
        "'Py' 'thon'"
      ],
      "execution_count": null,
      "outputs": []
    },
    {
      "cell_type": "markdown",
      "metadata": {
        "id": "SX4gpvIaJnjh",
        "colab_type": "text"
      },
      "source": [
        "However, to concatenate variables or a variable and a literal, use `+`:"
      ]
    },
    {
      "cell_type": "code",
      "metadata": {
        "trusted": true,
        "id": "KbnmGBfcJnji",
        "colab_type": "code",
        "colab": {}
      },
      "source": [
        "prefix = 'Py'\n",
        "prefix + 'thon'"
      ],
      "execution_count": null,
      "outputs": []
    },
    {
      "cell_type": "markdown",
      "metadata": {
        "id": "CF-KZjd3Jnjk",
        "colab_type": "text"
      },
      "source": [
        "### String indexes\n",
        "\n",
        "Strings can be *indexed* (subscripted), with the first character having index 0. There is no separate character type; a character is simply a string of size one:"
      ]
    },
    {
      "cell_type": "code",
      "metadata": {
        "trusted": true,
        "id": "tZlPPg73Jnjk",
        "colab_type": "code",
        "colab": {}
      },
      "source": [
        "word = 'Python'\n",
        "word[2]  # Character in position 0."
      ],
      "execution_count": null,
      "outputs": []
    },
    {
      "cell_type": "code",
      "metadata": {
        "trusted": true,
        "id": "O-Y1RzRDJnjm",
        "colab_type": "code",
        "colab": {}
      },
      "source": [
        "word[5]  # Character in position 5."
      ],
      "execution_count": null,
      "outputs": []
    },
    {
      "cell_type": "markdown",
      "metadata": {
        "id": "imalcP4KJnjo",
        "colab_type": "text"
      },
      "source": [
        "Indices may also be negative numbers, which means to start counting from the end of the string. Note that because -0 is the same as 0, negative indices start from -1:"
      ]
    },
    {
      "cell_type": "code",
      "metadata": {
        "trusted": true,
        "id": "Ri8rWcHUJnjo",
        "colab_type": "code",
        "colab": {}
      },
      "source": [
        "word[-1]  # Last character."
      ],
      "execution_count": null,
      "outputs": []
    },
    {
      "cell_type": "code",
      "metadata": {
        "trusted": true,
        "id": "bpZpJJeLJnjt",
        "colab_type": "code",
        "colab": {}
      },
      "source": [
        "word[-2]  # Second-last character."
      ],
      "execution_count": null,
      "outputs": []
    },
    {
      "cell_type": "code",
      "metadata": {
        "trusted": true,
        "id": "tThxM5ILJnjv",
        "colab_type": "code",
        "colab": {}
      },
      "source": [
        "word[-6]"
      ],
      "execution_count": null,
      "outputs": []
    },
    {
      "cell_type": "markdown",
      "metadata": {
        "id": "UFilXW5tJnjw",
        "colab_type": "text"
      },
      "source": [
        "### Slicing strings\n",
        "\n",
        "In addition to indexing, which extracts individual characters, Python also supports *slicing*, which extracts a substring. To slice, you indicate a *range* in the format `start:end`, where the start position is included but the end position is excluded:"
      ]
    },
    {
      "cell_type": "code",
      "metadata": {
        "trusted": true,
        "id": "PNqd5Rr4Jnjx",
        "colab_type": "code",
        "colab": {}
      },
      "source": [
        "word[0:2]  # Characters from position 0 (included) to 2 (excluded)."
      ],
      "execution_count": null,
      "outputs": []
    },
    {
      "cell_type": "code",
      "metadata": {
        "trusted": true,
        "id": "ks4jvTQrJnjz",
        "colab_type": "code",
        "colab": {}
      },
      "source": [
        "word[2:5]  # Characters from position 2 (included) to 5 (excluded)."
      ],
      "execution_count": null,
      "outputs": []
    },
    {
      "cell_type": "markdown",
      "metadata": {
        "id": "4iuELccOJnj1",
        "colab_type": "text"
      },
      "source": [
        "If you omit either position, the default start position is 0 and the default end is the length of the string:"
      ]
    },
    {
      "cell_type": "code",
      "metadata": {
        "trusted": true,
        "id": "pdXCp9R_Jnj2",
        "colab_type": "code",
        "colab": {}
      },
      "source": [
        "word[:2]   # Character from the beginning to position 2 (excluded)."
      ],
      "execution_count": null,
      "outputs": []
    },
    {
      "cell_type": "code",
      "metadata": {
        "trusted": true,
        "id": "On_yTrjLJnj8",
        "colab_type": "code",
        "colab": {}
      },
      "source": [
        "word[4:]  # Characters from position 4 (included) to the end."
      ],
      "execution_count": null,
      "outputs": []
    },
    {
      "cell_type": "code",
      "metadata": {
        "trusted": true,
        "id": "sOJ9mM1kJnkA",
        "colab_type": "code",
        "colab": {}
      },
      "source": [
        "word[-2:] # Characters from the second-last (included) to the end."
      ],
      "execution_count": null,
      "outputs": []
    },
    {
      "cell_type": "markdown",
      "metadata": {
        "id": "8ipJHxHdJnkC",
        "colab_type": "text"
      },
      "source": [
        "This characteristic means that `s[:i] + s[i:]` is always equal to `s`:"
      ]
    },
    {
      "cell_type": "code",
      "metadata": {
        "trusted": true,
        "id": "u2zyTWXIJnkD",
        "colab_type": "code",
        "colab": {}
      },
      "source": [
        "word[:2] + word[2:]"
      ],
      "execution_count": null,
      "outputs": []
    },
    {
      "cell_type": "code",
      "metadata": {
        "trusted": true,
        "id": "IoQ9RG3FJnkF",
        "colab_type": "code",
        "colab": {}
      },
      "source": [
        "word[:3] + word[4:]"
      ],
      "execution_count": null,
      "outputs": []
    },
    {
      "cell_type": "markdown",
      "metadata": {
        "id": "R4fjzEbdJnkH",
        "colab_type": "text"
      },
      "source": [
        "One way to remember how slices work is to think of the indices as pointing between characters, with the left edge of the first character numbered 0. Then the right edge of the last character of a string of *n* characters has index *n*. For example:"
      ]
    },
    {
      "cell_type": "markdown",
      "metadata": {
        "id": "EmHDEQa7JnkI",
        "colab_type": "raw"
      },
      "source": [
        " +---+---+---+---+---+---+\n",
        " | P | y | t | h | o | n |\n",
        " +---+---+---+---+---+---+\n",
        " 0   1   2   3   4   5   6\n",
        "-6  -5  -4  -3  -2  -1"
      ]
    },
    {
      "cell_type": "markdown",
      "metadata": {
        "id": "OL_o6SECJnkI",
        "colab_type": "text"
      },
      "source": [
        "The first row of numbers gives the position of the indices 0–6 in the string; the second row gives the corresponding negative indices. The slice from *i* to *j* consists of all characters between the edges labeled *i* and *j*, respectively.\n",
        "\n",
        "For non-negative indices, the length of a slice is the difference of the indices, if both are within bounds. For example, the length of `word[1:3]` is 2.\n",
        "\n",
        "Attempting to use an index that is too large results in an error:"
      ]
    },
    {
      "cell_type": "code",
      "metadata": {
        "trusted": true,
        "id": "klZlhTqjJnkJ",
        "colab_type": "code",
        "colab": {}
      },
      "source": [
        "word[2:4]  # The word only has 6 characters."
      ],
      "execution_count": null,
      "outputs": []
    },
    {
      "cell_type": "markdown",
      "metadata": {
        "id": "ZWKQorZKJnkM",
        "colab_type": "text"
      },
      "source": [
        "However, when used in a range, an index that's too large defaults to the size of the string and does not give an error. This characteristic is useful when you always want to slice at a particular index regardless of the length of a string:"
      ]
    },
    {
      "cell_type": "code",
      "metadata": {
        "trusted": true,
        "id": "p673RtM9JnkM",
        "colab_type": "code",
        "colab": {}
      },
      "source": [
        "word[4:42]"
      ],
      "execution_count": null,
      "outputs": []
    },
    {
      "cell_type": "code",
      "metadata": {
        "trusted": true,
        "id": "6BStJdexJnkO",
        "colab_type": "code",
        "colab": {}
      },
      "source": [
        "word[42:]"
      ],
      "execution_count": null,
      "outputs": []
    },
    {
      "cell_type": "markdown",
      "metadata": {
        "id": "hn_NiwirJnkS",
        "colab_type": "text"
      },
      "source": [
        "Python strings are [immutable](https://docs.python.org/3.6/glossary.html#term-immutable), which means they cannot be changed. Therefore, assigning a value to an indexed position in a string results in an error:"
      ]
    },
    {
      "cell_type": "code",
      "metadata": {
        "trusted": true,
        "id": "sF7CSp6sJnkS",
        "colab_type": "code",
        "colab": {}
      },
      "source": [
        "word[0] = 'J'"
      ],
      "execution_count": null,
      "outputs": []
    },
    {
      "cell_type": "markdown",
      "metadata": {
        "id": "a-uFwxUtJnkU",
        "colab_type": "text"
      },
      "source": [
        "The following cell also produces an error:"
      ]
    },
    {
      "cell_type": "code",
      "metadata": {
        "trusted": true,
        "id": "QD3BVfKNJnkU",
        "colab_type": "code",
        "colab": {}
      },
      "source": [
        "word[2:] = 'py'"
      ],
      "execution_count": null,
      "outputs": []
    },
    {
      "cell_type": "markdown",
      "metadata": {
        "id": "JpSfuYD0JnkZ",
        "colab_type": "text"
      },
      "source": [
        "A slice is itself a value that you can concatenate with other values using `+`:"
      ]
    },
    {
      "cell_type": "code",
      "metadata": {
        "trusted": true,
        "id": "rtZWT6EyJnkb",
        "colab_type": "code",
        "colab": {}
      },
      "source": [
        "'J' + word[1:]"
      ],
      "execution_count": null,
      "outputs": []
    },
    {
      "cell_type": "code",
      "metadata": {
        "trusted": true,
        "id": "7N60CEd2Jnkf",
        "colab_type": "code",
        "colab": {}
      },
      "source": [
        "word[:2] + 'Py'\n"
      ],
      "execution_count": null,
      "outputs": []
    },
    {
      "cell_type": "markdown",
      "metadata": {
        "id": "QrGcgudzJnkh",
        "colab_type": "text"
      },
      "source": [
        "A slice, however, is not a string literal, and it cannot be used with automatic concatenation. The following code produces an error:"
      ]
    },
    {
      "cell_type": "code",
      "metadata": {
        "trusted": true,
        "id": "xhKY8a5zJnkh",
        "colab_type": "code",
        "colab": {}
      },
      "source": [
        "word[:2] 'Py'    # Slice is not a literal; produces an error"
      ],
      "execution_count": null,
      "outputs": []
    },
    {
      "cell_type": "markdown",
      "metadata": {
        "id": "yegQp3LNJnkp",
        "colab_type": "text"
      },
      "source": [
        "Oftentimes, while working with strings, it can be useful to evaluate the length of a string. The built-in function [`len()`](https://docs.python.org/3.5/library/functions.html#len) returns the length of a string:"
      ]
    },
    {
      "cell_type": "code",
      "metadata": {
        "trusted": true,
        "id": "AU9InEmlJnkp",
        "colab_type": "code",
        "colab": {}
      },
      "source": [
        "s = 'supercalifragilisticexpialidocious'\n",
        "len(s)"
      ],
      "execution_count": null,
      "outputs": []
    },
    {
      "cell_type": "markdown",
      "metadata": {
        "id": "XaEPaYDXJnkr",
        "colab_type": "text"
      },
      "source": [
        "Another useful built-in function for working with strings is [`str()`](https://docs.python.org/3.6/library/stdtypes.html#str). This function takes any object and returns a printable string version of that object. For example:"
      ]
    },
    {
      "cell_type": "code",
      "metadata": {
        "trusted": true,
        "id": "zHx99-4fJnkr",
        "colab_type": "code",
        "colab": {}
      },
      "source": [
        "str(2)"
      ],
      "execution_count": null,
      "outputs": []
    },
    {
      "cell_type": "code",
      "metadata": {
        "trusted": true,
        "id": "5-nwktkEJnkt",
        "colab_type": "code",
        "colab": {}
      },
      "source": [
        "str(2.5)"
      ],
      "execution_count": null,
      "outputs": []
    },
    {
      "cell_type": "markdown",
      "metadata": {
        "id": "FC0T8bVnJnku",
        "colab_type": "text"
      },
      "source": [
        "> **Takeaway:** Operations on string data form the other fundamental task you will do in data science in Python. Becoming comfortable with strings now will pay large dividends to you later as you work with increasingly complex data."
      ]
    },
    {
      "cell_type": "markdown",
      "metadata": {
        "id": "ACTmd7SrJnkv",
        "colab_type": "text"
      },
      "source": [
        "## Other data types\n",
        "\n",
        "> **Learning goal:** By the end of this subsection, you should have a basic understanding of the remaining fundamental data types in Python and an idea of how and when to use them.\n",
        "\n",
        "The string and numeric data types that we have looked at so far are common to many programming languages. The other data types that we will now look at--lists, tuples, and dictionaries--set Python apart from C++ or Java by providing powerful and easy-to-use built-in data structures."
      ]
    },
    {
      "cell_type": "markdown",
      "metadata": {
        "id": "4CSQOoquJnkv",
        "colab_type": "text"
      },
      "source": [
        "### Lists\n",
        "\n",
        "Python knows a number of compound data types, which are used to group together other values. The most versatile is the [*list*](https://docs.python.org/3.5/library/stdtypes.html#typesseq-list), which can be written as a sequence of comma-separated values (items) between square brackets. Lists might contain items of different types, but usually the items all have the same type."
      ]
    },
    {
      "cell_type": "code",
      "metadata": {
        "trusted": true,
        "id": "g6qmfBrRJnkw",
        "colab_type": "code",
        "colab": {}
      },
      "source": [
        "squares = [1, 4, 9, 16, 25]\n",
        "squares"
      ],
      "execution_count": null,
      "outputs": []
    },
    {
      "cell_type": "markdown",
      "metadata": {
        "id": "CiCr3YQyJnky",
        "colab_type": "text"
      },
      "source": [
        "Like strings (and all other built-in [sequence](https://docs.python.org/3.5/glossary.html#term-sequence) types), lists can be indexed and sliced:"
      ]
    },
    {
      "cell_type": "code",
      "metadata": {
        "trusted": true,
        "id": "3GPIeN_uJnky",
        "colab_type": "code",
        "colab": {}
      },
      "source": [
        "squares[2]  # Indexing returns the item."
      ],
      "execution_count": null,
      "outputs": []
    },
    {
      "cell_type": "code",
      "metadata": {
        "trusted": true,
        "id": "c2388a_jJnk0",
        "colab_type": "code",
        "colab": {}
      },
      "source": [
        "squares[-4]"
      ],
      "execution_count": null,
      "outputs": []
    },
    {
      "cell_type": "code",
      "metadata": {
        "trusted": true,
        "id": "iZ3-yGwwJnk1",
        "colab_type": "code",
        "colab": {}
      },
      "source": [
        "squares[-2:]  # Slicing returns a new list."
      ],
      "execution_count": null,
      "outputs": []
    },
    {
      "cell_type": "markdown",
      "metadata": {
        "id": "UI2hKxONJnk6",
        "colab_type": "text"
      },
      "source": [
        "All slice operations return a new list containing the requested elements. This means that the following slice returns a new (shallow) copy of the list:"
      ]
    },
    {
      "cell_type": "code",
      "metadata": {
        "trusted": true,
        "id": "5-pWOX_3Jnk6",
        "colab_type": "code",
        "colab": {}
      },
      "source": [
        "squares[:]"
      ],
      "execution_count": null,
      "outputs": []
    },
    {
      "cell_type": "markdown",
      "metadata": {
        "id": "q0oX33xBJnk8",
        "colab_type": "text"
      },
      "source": [
        "Lists also support concatenation with the `+` operator:"
      ]
    },
    {
      "cell_type": "code",
      "metadata": {
        "trusted": true,
        "id": "y7IVZgfsJnk9",
        "colab_type": "code",
        "colab": {}
      },
      "source": [
        "squares + [36, 49, 64, 81, 100]"
      ],
      "execution_count": null,
      "outputs": []
    },
    {
      "cell_type": "markdown",
      "metadata": {
        "id": "eof2lideJnk_",
        "colab_type": "text"
      },
      "source": [
        "Unlike strings, which are [immutable](https://docs.python.org/3.5/glossary.html#term-immutable), lists are a [mutable](https://docs.python.org/3.5/glossary.html#term-mutable) type, which means you can change any value in the list:"
      ]
    },
    {
      "cell_type": "code",
      "metadata": {
        "trusted": true,
        "id": "qQ_9KNGmJnlB",
        "colab_type": "code",
        "colab": {}
      },
      "source": [
        "cubes = [1, 8, 27, 65, 125]  # Something's wrong here ...\n",
        "4 ** 3  # the cube of 4 is 64, not 65!\n",
        "cubes"
      ],
      "execution_count": null,
      "outputs": []
    },
    {
      "cell_type": "code",
      "metadata": {
        "trusted": true,
        "id": "iObVS9NHJnlD",
        "colab_type": "code",
        "colab": {}
      },
      "source": [
        "cubes[3] = 64  # Replace the wrong value.\n",
        "cubes"
      ],
      "execution_count": null,
      "outputs": []
    },
    {
      "cell_type": "markdown",
      "metadata": {
        "id": "PFdiDgciJnlF",
        "colab_type": "text"
      },
      "source": [
        "You can assign to slices, which can change the size of the list or clear it entirely:"
      ]
    },
    {
      "cell_type": "code",
      "metadata": {
        "trusted": true,
        "id": "pxafsR_wJnlF",
        "colab_type": "code",
        "colab": {}
      },
      "source": [
        "letters = ['a', 'b', 'c', 'd', 'e', 'f', 'g']\n",
        "letters"
      ],
      "execution_count": null,
      "outputs": []
    },
    {
      "cell_type": "code",
      "metadata": {
        "trusted": true,
        "id": "o_ggB7trJnlH",
        "colab_type": "code",
        "colab": {}
      },
      "source": [
        "# Replace some values.\n",
        "letters[2:5] = ['C', 'D', 'E']\n",
        "letters"
      ],
      "execution_count": null,
      "outputs": []
    },
    {
      "cell_type": "code",
      "metadata": {
        "trusted": true,
        "id": "7LIiz5JfJnlI",
        "colab_type": "code",
        "colab": {}
      },
      "source": [
        "# Now remove them.\n",
        "letters[2:5] = []\n",
        "letters"
      ],
      "execution_count": null,
      "outputs": []
    },
    {
      "cell_type": "code",
      "metadata": {
        "trusted": true,
        "id": "Pi1yDq2pJnlJ",
        "colab_type": "code",
        "colab": {}
      },
      "source": [
        "# Clear the list by replacing all the elements with an empty list.\n",
        "letters[:] = []\n",
        "letters"
      ],
      "execution_count": null,
      "outputs": []
    },
    {
      "cell_type": "markdown",
      "metadata": {
        "id": "Msrx2f2_JnlM",
        "colab_type": "text"
      },
      "source": [
        "The built-in [`len()`](https://docs.python.org/3.6/library/functions.html#len) function also applies to lists for getting their lengths:"
      ]
    },
    {
      "cell_type": "code",
      "metadata": {
        "trusted": true,
        "id": "6c3T8hesJnlN",
        "colab_type": "code",
        "colab": {}
      },
      "source": [
        "letters = ['a', 'b', 'c', 'd']\n",
        "len(letters)"
      ],
      "execution_count": null,
      "outputs": []
    },
    {
      "cell_type": "markdown",
      "metadata": {
        "id": "041MY555JnlO",
        "colab_type": "text"
      },
      "source": [
        "You can nest lists, which means to create lists that contain other lists. For example:"
      ]
    },
    {
      "cell_type": "code",
      "metadata": {
        "trusted": true,
        "id": "eK_mM06cJnlP",
        "colab_type": "code",
        "colab": {}
      },
      "source": [
        "a = ['a', 'b', 'c']\n",
        "n = [1, 2, 3]\n",
        "x = [a, n]\n",
        "x"
      ],
      "execution_count": null,
      "outputs": []
    },
    {
      "cell_type": "markdown",
      "metadata": {
        "id": "6Kdo8vVLJnlQ",
        "colab_type": "text"
      },
      "source": [
        "`x` is a list of lists, and you can access its constituent lists through the same indexing you use with simpler lists:"
      ]
    },
    {
      "cell_type": "code",
      "metadata": {
        "trusted": true,
        "id": "Ikkf9RqFJnlS",
        "colab_type": "code",
        "colab": {}
      },
      "source": [
        "x[1]"
      ],
      "execution_count": null,
      "outputs": []
    },
    {
      "cell_type": "markdown",
      "metadata": {
        "id": "barXu9naJnlU",
        "colab_type": "text"
      },
      "source": [
        "And by using additional index numbers, you can directly access elements within those sub-lists:"
      ]
    },
    {
      "cell_type": "code",
      "metadata": {
        "trusted": true,
        "id": "tVI8mNr4JnlU",
        "colab_type": "code",
        "colab": {}
      },
      "source": [
        "x[1][0]"
      ],
      "execution_count": null,
      "outputs": []
    },
    {
      "cell_type": "markdown",
      "metadata": {
        "id": "0O1KOrZeJnlV",
        "colab_type": "text"
      },
      "source": [
        "### Exercise:"
      ]
    },
    {
      "cell_type": "code",
      "metadata": {
        "trusted": true,
        "id": "QXLsAyOmJnlX",
        "colab_type": "code",
        "colab": {}
      },
      "source": [
        "# Nested lists come up a lot in programming, so it pays to practice.\n",
        "# Which indices would you include after x to get ‘c’?\n",
        "x[0][2]\n",
        "# How about to get 3?\n",
        "x[1][2]\n"
      ],
      "execution_count": null,
      "outputs": []
    },
    {
      "cell_type": "markdown",
      "metadata": {
        "id": "U-Z5us2EJnlb",
        "colab_type": "text"
      },
      "source": [
        "### List object methods\n",
        "\n",
        "Python includes a number of handy functions that are available to all lists.\n",
        "\n",
        "For example, [`append()`](https://docs.python.org/3.6/tutorial/datastructures.html) and [`extend()`](https://docs.python.org/3.6/tutorial/datastructures.html) enable you to add to the end of a list, much like the `+=` operator:"
      ]
    },
    {
      "cell_type": "code",
      "metadata": {
        "trusted": true,
        "id": "u3HT-CZYJnlc",
        "colab_type": "code",
        "colab": {}
      },
      "source": [
        "beatles = ['John', 'Paul']\n",
        "beatles.append('kushali')\n",
        "beatles"
      ],
      "execution_count": null,
      "outputs": []
    },
    {
      "cell_type": "markdown",
      "metadata": {
        "id": "oZQBJ7A-Jnlj",
        "colab_type": "text"
      },
      "source": [
        "Notice that you did not actually pass a list to `append()`; passing a list to `append()` results in this behavior:"
      ]
    },
    {
      "cell_type": "code",
      "metadata": {
        "trusted": true,
        "id": "ZAFZvhHMJnlj",
        "colab_type": "code",
        "colab": {}
      },
      "source": [
        "beatles2 = ['John', 'Paul', 'George']\n",
        "beatles2.append(['Stuart', 'Pete'])\n",
        "beatles2"
      ],
      "execution_count": null,
      "outputs": []
    },
    {
      "cell_type": "markdown",
      "metadata": {
        "id": "lpQO_zYTJnlk",
        "colab_type": "text"
      },
      "source": [
        "To tack a list on the end of an existing list, use `extend()` instead:"
      ]
    },
    {
      "cell_type": "code",
      "metadata": {
        "trusted": true,
        "id": "uThW8rU6Jnlk",
        "colab_type": "code",
        "colab": {}
      },
      "source": [
        "beatles.extend(['Stuart', 'kushali'])\n",
        "beatles"
      ],
      "execution_count": null,
      "outputs": []
    },
    {
      "cell_type": "markdown",
      "metadata": {
        "id": "MYpUNeIlJnll",
        "colab_type": "text"
      },
      "source": [
        "[`index()`](https://docs.python.org/3.6/tutorial/datastructures.html) returns the index of the first matching item in a list (if present):"
      ]
    },
    {
      "cell_type": "code",
      "metadata": {
        "trusted": true,
        "id": "tbW-8BaYJnlm",
        "colab_type": "code",
        "colab": {}
      },
      "source": [
        "beatles.index('kushali')"
      ],
      "execution_count": null,
      "outputs": []
    },
    {
      "cell_type": "markdown",
      "metadata": {
        "id": "rlEc247AJnln",
        "colab_type": "text"
      },
      "source": [
        "The [`count()`](https://docs.python.org/3.6/tutorial/datastructures.html) method returns the number of items in a list that match objects you pass in:"
      ]
    },
    {
      "cell_type": "code",
      "metadata": {
        "trusted": true,
        "id": "yJVc_dd0Jnln",
        "colab_type": "code",
        "colab": {}
      },
      "source": [
        "beatles.count('John')"
      ],
      "execution_count": null,
      "outputs": []
    },
    {
      "cell_type": "markdown",
      "metadata": {
        "id": "RxiJNLlEJnlo",
        "colab_type": "text"
      },
      "source": [
        "There are two methods for removing items from a list. The first is [`remove()`](https://docs.python.org/3.6/tutorial/datastructures.html), which locates the first occurrence of an item in the list and removes it (if present):"
      ]
    },
    {
      "cell_type": "code",
      "metadata": {
        "trusted": true,
        "id": "-cT0c2G7Jnlq",
        "colab_type": "code",
        "colab": {}
      },
      "source": [
        "beatles.remove('Stuart')\n",
        "beatles"
      ],
      "execution_count": null,
      "outputs": []
    },
    {
      "cell_type": "markdown",
      "metadata": {
        "id": "-sDS6BaMJnls",
        "colab_type": "text"
      },
      "source": [
        "The other method for removing items from lists is the [`pop()`](https://docs.python.org/3.6/tutorial/datastructures.html) method. If you supply `pop()` with an index number, it will remove the item from that location in the list and return it; otherwise, `pop()` removes the last item in a list and returns that:"
      ]
    },
    {
      "cell_type": "code",
      "metadata": {
        "trusted": true,
        "id": "znJKGZpVJnlt",
        "colab_type": "code",
        "colab": {}
      },
      "source": [
        "beatles.pop(3)\n",
        "beatles"
      ],
      "execution_count": null,
      "outputs": []
    },
    {
      "cell_type": "markdown",
      "metadata": {
        "id": "Ve11v46zJnlu",
        "colab_type": "text"
      },
      "source": [
        "The [`insert()`](https://docs.python.org/3.6/tutorial/datastructures.html) method enables you to add an item to a specific location in a list:"
      ]
    },
    {
      "cell_type": "code",
      "metadata": {
        "trusted": true,
        "id": "O5YZOxX9Jnlv",
        "colab_type": "code",
        "colab": {}
      },
      "source": [
        "beatles.insert(1, 'Ringo')\n",
        "beatles"
      ],
      "execution_count": null,
      "outputs": []
    },
    {
      "cell_type": "markdown",
      "metadata": {
        "id": "A__WwlddJnlw",
        "colab_type": "text"
      },
      "source": [
        "Unsurprisingly, the [`reverse()`](https://docs.python.org/3.6/tutorial/datastructures.html) method reverses the order of items in a list:"
      ]
    },
    {
      "cell_type": "code",
      "metadata": {
        "trusted": true,
        "id": "F1TLHA69Jnlx",
        "colab_type": "code",
        "colab": {}
      },
      "source": [
        "beatles.reverse()\n",
        "beatles"
      ],
      "execution_count": null,
      "outputs": []
    },
    {
      "cell_type": "markdown",
      "metadata": {
        "id": "924rCOejJnly",
        "colab_type": "text"
      },
      "source": [
        "Finally, the [`sort()`](https://docs.python.org/3.6/tutorial/datastructures.html) method orders the items in a list:"
      ]
    },
    {
      "cell_type": "code",
      "metadata": {
        "trusted": true,
        "id": "O9dZwiTyJnly",
        "colab_type": "code",
        "colab": {}
      },
      "source": [
        "beatles=['A','B','Bumar']\n",
        "sorted(beatles,reverse=True)\n"
      ],
      "execution_count": null,
      "outputs": []
    },
    {
      "cell_type": "markdown",
      "metadata": {
        "id": "sLSM3ZjdJnl0",
        "colab_type": "text"
      },
      "source": [
        "### Exercise:"
      ]
    },
    {
      "cell_type": "code",
      "metadata": {
        "trusted": true,
        "id": "-SK0KMxEJnl0",
        "colab_type": "code",
        "colab": {}
      },
      "source": [
        "# What happens if you run beatles.extend(beatles)?\n",
        "beatles.extend(beatles)\n",
        "print(beatles)\n",
        "# How about beatles.append(beatles)?\n"
      ],
      "execution_count": null,
      "outputs": []
    },
    {
      "cell_type": "markdown",
      "metadata": {
        "id": "bWfhg4B4Jnl2",
        "colab_type": "text"
      },
      "source": [
        "Note that you can supply your own *lambda function* to `sort()` for use in comparing items in a list. We will cover lambda functions in Section 2."
      ]
    },
    {
      "cell_type": "markdown",
      "metadata": {
        "id": "-2fzExrvJnl3",
        "colab_type": "text"
      },
      "source": [
        "### Tuples\n",
        "\n",
        "Another immutable data type in Python are *tuples*. It can be useful at times to create a data structure that won't be altered later in a program, such as to protect constant data from being overwritten on accident or to improve performance for iterating over data. This is where tuples come in. You create tuples much as you do lists, only using parentheses instead of brackets."
      ]
    },
    {
      "cell_type": "code",
      "metadata": {
        "trusted": true,
        "id": "HlX5sqAYJnl4",
        "colab_type": "code",
        "colab": {}
      },
      "source": [
        "t = (1, 2, 3)\n",
        "t"
      ],
      "execution_count": null,
      "outputs": []
    },
    {
      "cell_type": "markdown",
      "metadata": {
        "id": "vYesKBzxJnl6",
        "colab_type": "text"
      },
      "source": [
        "Because tuples are immutable, you cannot change elements within them:"
      ]
    },
    {
      "cell_type": "code",
      "metadata": {
        "trusted": true,
        "id": "kENAT67pJnl6",
        "colab_type": "code",
        "colab": {}
      },
      "source": [
        "t[1] = 2.0"
      ],
      "execution_count": null,
      "outputs": []
    },
    {
      "cell_type": "markdown",
      "metadata": {
        "id": "MPu60JnLJnl8",
        "colab_type": "text"
      },
      "source": [
        "However, you can refer to elements within them:"
      ]
    },
    {
      "cell_type": "code",
      "metadata": {
        "trusted": true,
        "id": "3Mj3jjAwJnl9",
        "colab_type": "code",
        "colab": {}
      },
      "source": [
        "t[1]"
      ],
      "execution_count": null,
      "outputs": []
    },
    {
      "cell_type": "markdown",
      "metadata": {
        "id": "bqssvKAGJnl_",
        "colab_type": "text"
      },
      "source": [
        "You can also slice tuples:"
      ]
    },
    {
      "cell_type": "code",
      "metadata": {
        "trusted": true,
        "id": "IpGKoXzHJnl_",
        "colab_type": "code",
        "colab": {}
      },
      "source": [
        "t[:2]"
      ],
      "execution_count": null,
      "outputs": []
    },
    {
      "cell_type": "markdown",
      "metadata": {
        "id": "0g2gPVJDJnmD",
        "colab_type": "text"
      },
      "source": [
        "You can also create tuples from lists:"
      ]
    },
    {
      "cell_type": "code",
      "metadata": {
        "trusted": true,
        "id": "X5iiJMtkJnmE",
        "colab_type": "code",
        "colab": {}
      },
      "source": [
        "l = ['baked', 'beans', 'spam']\n",
        "l = tuple(l)\n",
        "l"
      ],
      "execution_count": null,
      "outputs": []
    },
    {
      "cell_type": "markdown",
      "metadata": {
        "id": "VwOfDM_zJnmH",
        "colab_type": "text"
      },
      "source": [
        "Or you can create lists from tuples:"
      ]
    },
    {
      "cell_type": "code",
      "metadata": {
        "trusted": true,
        "id": "yiyZ68irJnmI",
        "colab_type": "code",
        "colab": {}
      },
      "source": [
        "l = list(l)\n",
        "l"
      ],
      "execution_count": null,
      "outputs": []
    },
    {
      "cell_type": "markdown",
      "metadata": {
        "id": "JwRCtCqHJnmK",
        "colab_type": "text"
      },
      "source": [
        "### Membership testing\n",
        "\n",
        "As your Python programming grows more complex, you will want to test lists and tuples for the membership of specific data. The `in` operator enables you to do that."
      ]
    },
    {
      "cell_type": "code",
      "metadata": {
        "trusted": true,
        "id": "1ty4DvZIJnmK",
        "colab_type": "code",
        "colab": {}
      },
      "source": [
        "tup = ('a', 'b', 'c')\n",
        "'b' in tup"
      ],
      "execution_count": null,
      "outputs": []
    },
    {
      "cell_type": "markdown",
      "metadata": {
        "id": "EcDt7SkMJnmM",
        "colab_type": "text"
      },
      "source": [
        "You can also test to see if something is not in a list or tuple using `not in`:"
      ]
    },
    {
      "cell_type": "code",
      "metadata": {
        "trusted": true,
        "id": "HRhrCUfjJnmN",
        "colab_type": "code",
        "colab": {}
      },
      "source": [
        "lis = ['a', 'b', 'c']\n",
        "'a' not in lis"
      ],
      "execution_count": null,
      "outputs": []
    },
    {
      "cell_type": "markdown",
      "metadata": {
        "id": "HkTJNxJQJnmP",
        "colab_type": "text"
      },
      "source": [
        "### Exercise:"
      ]
    },
    {
      "cell_type": "code",
      "metadata": {
        "trusted": true,
        "id": "iAYQtjvgJnmQ",
        "colab_type": "code",
        "colab": {}
      },
      "source": [
        "# What happens if you run lis in lis?\n",
        "lis=[['a','b','c']]\n",
        "lis in lis\n",
        "# Is that the behavior you expected?\n",
        "# If not, think back to the nested lists we’ve already encountered.\n"
      ],
      "execution_count": null,
      "outputs": []
    },
    {
      "cell_type": "markdown",
      "metadata": {
        "id": "9irIS13-JnmX",
        "colab_type": "text"
      },
      "source": [
        "### Dictionaries\n",
        "\n",
        "Dictionaries in Python provide a means of mapping information between unique keys and values. You create dictionaries by listing zero or more key-value pairs inside of braces, like this:"
      ]
    },
    {
      "cell_type": "code",
      "metadata": {
        "trusted": true,
        "id": "HxiB5a6qJnmX",
        "colab_type": "code",
        "colab": {}
      },
      "source": [
        "\n",
        "capitals = {'France': ('Paris', 2140526)}"
      ],
      "execution_count": null,
      "outputs": []
    },
    {
      "cell_type": "markdown",
      "metadata": {
        "id": "YhScAlf3Jnmb",
        "colab_type": "text"
      },
      "source": [
        "Keys for dictionaries can be three things: strings, numbers, or tuples (that contain only strings, numbers, or other tuples). The important thing is that dictionary keys be immutable, so lists cannot be used for keys in dictionaries, for example.\n",
        "\n",
        "You add to dictionaries like this:"
      ]
    },
    {
      "cell_type": "code",
      "metadata": {
        "trusted": true,
        "id": "aG5xkWUzJnmb",
        "colab_type": "code",
        "colab": {}
      },
      "source": [
        "capitals['Nigeria'] = ('Lagos', 6048430)\n",
        "capitals"
      ],
      "execution_count": null,
      "outputs": []
    },
    {
      "cell_type": "markdown",
      "metadata": {
        "id": "6ncvLmcjJnmd",
        "colab_type": "text"
      },
      "source": [
        "### Exercise:"
      ]
    },
    {
      "cell_type": "code",
      "metadata": {
        "trusted": true,
        "id": "2Nes2reUJnme",
        "colab_type": "code",
        "colab": {}
      },
      "source": [
        "# Now try adding another country (or something else) to the capitals dictionary\n",
        "capitals['india']=('new delhi',9027027)\n",
        "capitals"
      ],
      "execution_count": null,
      "outputs": []
    },
    {
      "cell_type": "markdown",
      "metadata": {
        "id": "8kUlMMFyJnmf",
        "colab_type": "text"
      },
      "source": [
        "You reference entries much like you do as through an index number for a string, list, or tuple, but instead of an index, use a key:"
      ]
    },
    {
      "cell_type": "code",
      "metadata": {
        "trusted": true,
        "id": "0ooUWRaiJnmf",
        "colab_type": "code",
        "colab": {}
      },
      "source": [
        "capitals['France']"
      ],
      "execution_count": null,
      "outputs": []
    },
    {
      "cell_type": "markdown",
      "metadata": {
        "collapsed": true,
        "id": "I_y6ymCFJnmg",
        "colab_type": "text"
      },
      "source": [
        "You can also update entries in the dictionary:"
      ]
    },
    {
      "cell_type": "code",
      "metadata": {
        "trusted": true,
        "id": "MSbGHx48Jnmg",
        "colab_type": "code",
        "colab": {}
      },
      "source": [
        "capitals['Nigeria'] = ('Abuja', 1235880)\n",
        "capitals"
      ],
      "execution_count": null,
      "outputs": []
    },
    {
      "cell_type": "markdown",
      "metadata": {
        "collapsed": true,
        "id": "p6FxY6AJJnmj",
        "colab_type": "text"
      },
      "source": [
        "When used on a dictionary, the `len()` method returns the number of keys in a dictionary:"
      ]
    },
    {
      "cell_type": "code",
      "metadata": {
        "trusted": true,
        "id": "onbAo_muJnmj",
        "colab_type": "code",
        "colab": {}
      },
      "source": [
        "len(capitals)"
      ],
      "execution_count": null,
      "outputs": []
    },
    {
      "cell_type": "markdown",
      "metadata": {
        "collapsed": true,
        "id": "jcdjP23RJnml",
        "colab_type": "text"
      },
      "source": [
        "Similar to the `pop()` method for lists, the `popitem()` method randomly removes a key from the dictionary, along with its associated value:"
      ]
    },
    {
      "cell_type": "code",
      "metadata": {
        "trusted": true,
        "id": "_swqZqkVJnml",
        "colab_type": "code",
        "colab": {}
      },
      "source": [
        "capitals.popitem()"
      ],
      "execution_count": null,
      "outputs": []
    },
    {
      "cell_type": "code",
      "metadata": {
        "trusted": true,
        "id": "T8UERwbkJnmm",
        "colab_type": "code",
        "colab": {}
      },
      "source": [
        "capitals"
      ],
      "execution_count": null,
      "outputs": []
    },
    {
      "cell_type": "markdown",
      "metadata": {
        "id": "k1OyrmPwJnmn",
        "colab_type": "text"
      },
      "source": [
        "> **Takeaway:** Regardless of how complex and voluminous the data you will work with, these basic data structures will repeatedly be your means for handling and manipulating it. Comfort with these basic data structures is essential to being able to understand and use Python code written by others."
      ]
    },
    {
      "cell_type": "markdown",
      "metadata": {
        "collapsed": true,
        "id": "u7U0Nra_Jnmq",
        "colab_type": "text"
      },
      "source": [
        "## Control Flow, Functions, and Libraries\n",
        "\n",
        "You will have a foundational understanding of Python control flows, functions, and libraries after completing this section."
      ]
    },
    {
      "cell_type": "markdown",
      "metadata": {
        "id": "gAA8-MduJnmq",
        "colab_type": "text"
      },
      "source": [
        "### Control flow in Python\n",
        "\n",
        "> **Learning goal:** By the end of this subsection, you should be comfortable using basic control flows in Python.\n",
        "\n",
        "Now that you have a working understanding of the fundamental data types and structures in Python, we can move on to actual programming using Python.\n",
        "\n",
        "#### If-statements\n",
        "\n",
        "`If` statements in Python are similar to those in other programming languages like Java, and they form the backbone of the logical flow of most programs."
      ]
    },
    {
      "cell_type": "code",
      "metadata": {
        "trusted": true,
        "id": "CSKkJs7HJnmq",
        "colab_type": "code",
        "colab": {}
      },
      "source": [
        "y = 7\n",
        "if y % 2 == 0:\n",
        "    print('Even')"
      ],
      "execution_count": null,
      "outputs": []
    },
    {
      "cell_type": "markdown",
      "metadata": {
        "id": "IegdyXG7Jnms",
        "colab_type": "text"
      },
      "source": [
        "### Exercise:"
      ]
    },
    {
      "cell_type": "code",
      "metadata": {
        "trusted": true,
        "id": "KLv3HxK4Jnms",
        "colab_type": "code",
        "colab": {}
      },
      "source": [
        "# What behavior do you experience if you change y to be odd?"
      ],
      "execution_count": null,
      "outputs": []
    },
    {
      "cell_type": "markdown",
      "metadata": {
        "id": "R0Kx-a25Jnmt",
        "colab_type": "text"
      },
      "source": [
        "Did you notice the indentation for print under the if statement? That indentation is important because that is how Python demarks the scope of a control flow--what is contingently run or looped over--as opposed to the braces ({}) used in other languages.\n",
        "\n",
        "To cover more contingencies without having to construct a follow-on `if` statement, you can add an `else` statement:"
      ]
    },
    {
      "cell_type": "code",
      "metadata": {
        "trusted": true,
        "id": "qqIGBnABJnmt",
        "colab_type": "code",
        "colab": {}
      },
      "source": [
        "y = 7\n",
        "if y % 2 == 0:\n",
        "    print('Even')\n",
        "else:\n",
        "    print('Odd')"
      ],
      "execution_count": null,
      "outputs": []
    },
    {
      "cell_type": "markdown",
      "metadata": {
        "id": "Ogu24fuVJnmu",
        "colab_type": "text"
      },
      "source": [
        "`elif` enables you to insert an additional logical test to an `if` statement:"
      ]
    },
    {
      "cell_type": "code",
      "metadata": {
        "trusted": true,
        "id": "dov_yIpuJnmw",
        "colab_type": "code",
        "colab": {}
      },
      "source": [
        "y = 7\n",
        "if y % 2 == 1:\n",
        "    print('Even')\n",
        "elif y == 1:\n",
        "    print('One')\n",
        "else:\n",
        "    print('Odd')"
      ],
      "execution_count": null,
      "outputs": []
    },
    {
      "cell_type": "markdown",
      "metadata": {
        "id": "MUQs1n1SJnm3",
        "colab_type": "text"
      },
      "source": [
        "Notice that, in the previous example, the `if` statement exited after finding the *first* logical test that was `true`. If `y = 1`, and while 1 is indeed odd, the `if` statement executed and exited after finding that `y == 1`, rather than continuing to the end of the statement."
      ]
    },
    {
      "cell_type": "markdown",
      "metadata": {
        "id": "2VYzZbrpJnm4",
        "colab_type": "text"
      },
      "source": [
        "### Exercise:"
      ]
    },
    {
      "cell_type": "code",
      "metadata": {
        "trusted": true,
        "id": "YIfoCTP2Jnm4",
        "colab_type": "code",
        "colab": {}
      },
      "source": [
        "# Try changing the value of y in the snippet above.\n",
        "# Do you get the output that you expect?\n"
      ],
      "execution_count": null,
      "outputs": []
    },
    {
      "cell_type": "markdown",
      "metadata": {
        "id": "rzKfKVxYJnm8",
        "colab_type": "text"
      },
      "source": [
        "#### For-loops\n",
        "\n",
        "It is often necessary in programs to iterate over some set of items. This is where `for` loops prove useful. For example, they can provide a useful way to iterate over the items of a list:"
      ]
    },
    {
      "cell_type": "code",
      "metadata": {
        "trusted": true,
        "id": "zAX9l0ULJnm8",
        "colab_type": "code",
        "colab": {}
      },
      "source": [
        "colors = ['red', 'yellow', 'blue', 'brown']\n",
        "for color in colors:\n",
        "    print(color)"
      ],
      "execution_count": null,
      "outputs": []
    },
    {
      "cell_type": "markdown",
      "metadata": {
        "id": "CZAKwXcBJnm-",
        "colab_type": "text"
      },
      "source": [
        "Sometimes, you will want to iterate over a list using the list index rather than items from that list (say, when you want to access items from another list at the same time). In this case, you can combine list-object methods and for loops:"
      ]
    },
    {
      "cell_type": "code",
      "metadata": {
        "trusted": true,
        "id": "7RBk7CtLJnm_",
        "colab_type": "code",
        "colab": {}
      },
      "source": [
        "comp_colors = ['green', 'purple', 'orange']\n",
        "for i in range(len(comp_colors)):\n",
        "    print(colors[i], comp_colors[i])"
      ],
      "execution_count": null,
      "outputs": []
    },
    {
      "cell_type": "markdown",
      "metadata": {
        "id": "ZoPesLLDJnnF",
        "colab_type": "text"
      },
      "source": [
        "We've met `len()` before, but [`range()`](https://docs.python.org/3/library/functions.html#func-range) is new to us. That function produces a sequence of integers from 0 to 1 less than the number passed into it. Hence:"
      ]
    },
    {
      "cell_type": "code",
      "metadata": {
        "trusted": true,
        "id": "3EkR4xGRJnnF",
        "colab_type": "code",
        "colab": {}
      },
      "source": [
        "for j in range(5):\n",
        "    print(j)"
      ],
      "execution_count": null,
      "outputs": []
    },
    {
      "cell_type": "markdown",
      "metadata": {
        "id": "Saggb5bVJnnG",
        "colab_type": "text"
      },
      "source": [
        "In addition to `range(`*`stop`*`)`, the range function can take up to three parameters: `range(`*`start`*, *`stop`*`[, `*step*`])`. This odd-looking notation just means that if you pass a single argument to `range()`, it will take that to be the stop value; two arguments will be the start and stop values; and three values are `start`, `stop`, and `step`.\n",
        "\n",
        "### Exercise:"
      ]
    },
    {
      "cell_type": "code",
      "metadata": {
        "trusted": true,
        "id": "2Ag-eNmfJnnG",
        "colab_type": "code",
        "colab": {}
      },
      "source": [
        "# How would you use range and a for loop to print the sequence of numbers\n",
        "for j in range(17,41,3):\n",
        "   print(j)\n",
        "# from 10 to 20? How about counting by threes from 17 to 41?\n"
      ],
      "execution_count": null,
      "outputs": []
    },
    {
      "cell_type": "markdown",
      "metadata": {
        "id": "Rj2_CxzXJnnH",
        "colab_type": "text"
      },
      "source": [
        "It can also be important to break out of a loop. Python uses the `break` statement borrowed from C to do this. To see this in action, consider two nested for loops:"
      ]
    },
    {
      "cell_type": "code",
      "metadata": {
        "trusted": true,
        "id": "leQLwBqLJnnI",
        "colab_type": "code",
        "colab": {}
      },
      "source": [
        "for n in range(2, 10):\n",
        "    for x in range(2, n):\n",
        "        if n % x == 0:\n",
        "            print(n, 'equals', x, '*', n//x)\n",
        "            break\n",
        "    else:\n",
        "        print(n, 'is a prime number')"
      ],
      "execution_count": null,
      "outputs": []
    },
    {
      "cell_type": "markdown",
      "metadata": {
        "id": "Z0n5moc8JnnJ",
        "colab_type": "text"
      },
      "source": [
        "Note that, in the example above, the `else` statement belongs to the `for` loop, not to the `if` statement.\n",
        "\n",
        "### Exercise:"
      ]
    },
    {
      "cell_type": "code",
      "metadata": {
        "trusted": true,
        "id": "PmE2HynmJnnK",
        "colab_type": "code",
        "colab": {}
      },
      "source": [
        "# Try changing the code snippet above after you remove the break statement.\n",
        "# What output does it now produce?\n"
      ],
      "execution_count": null,
      "outputs": []
    },
    {
      "cell_type": "markdown",
      "metadata": {
        "id": "CuuFzeMdJnnT",
        "colab_type": "text"
      },
      "source": [
        "As part of the control flow of your program, you might want to continue to the next iteration of your loop. The `continue` statement (also borrowed from C) can help with that:"
      ]
    },
    {
      "cell_type": "code",
      "metadata": {
        "trusted": true,
        "id": "5r8sEjxgJnnU",
        "colab_type": "code",
        "colab": {}
      },
      "source": [
        "for num in range(2, 10):\n",
        "    if num % 2 == 0:\n",
        "        print(\"Found an even number:\", num)\n",
        "        continue\n",
        "    print(\"Found an odd number:\", num)"
      ],
      "execution_count": null,
      "outputs": []
    },
    {
      "cell_type": "markdown",
      "metadata": {
        "id": "RVTz1ukDJnnV",
        "colab_type": "text"
      },
      "source": [
        "### Exercise:"
      ]
    },
    {
      "cell_type": "code",
      "metadata": {
        "trusted": true,
        "id": "82OvbQ-OJnnV",
        "colab_type": "code",
        "colab": {}
      },
      "source": [
        "# What happens when you replace the continue statement above with a break?\n"
      ],
      "execution_count": null,
      "outputs": []
    },
    {
      "cell_type": "markdown",
      "metadata": {
        "id": "A-7Bo3pzJnnW",
        "colab_type": "text"
      },
      "source": [
        "#### While-loops\n",
        "\n",
        "If we cross the functionality of the `if` statement with that of the `for` loop, we would get the `while` loop, a loop that iterates while some logical condition remains true. Consider this snippet of code to compute the initial sub-sequence of the Fibonacci sequence:"
      ]
    },
    {
      "cell_type": "code",
      "metadata": {
        "trusted": true,
        "id": "Mue27Kj2JnnW",
        "colab_type": "code",
        "colab": {}
      },
      "source": [
        "# In the Fibonacci series, the sum of two elements defines the next.\n",
        "a, b = 2, 3\n",
        "\n",
        "while a < 15:    \n",
        "    print(b, end=', ')\n",
        "    a, b = b, a+b"
      ],
      "execution_count": null,
      "outputs": []
    },
    {
      "cell_type": "markdown",
      "metadata": {
        "id": "mFwES89LJnnY",
        "colab_type": "text"
      },
      "source": [
        "Go ahead and play with the number of iterations for the while loop. Notice that this snippet also uses multiple assignment for variables.\n",
        "\n",
        "> **Takeaway:** Control flows are what make programs programs, as opposed to a single sequence of operations. Mastering the logical flow of information in Python will enable you to automate tasks that would be impossibly complex or time-consuming to do manually."
      ]
    },
    {
      "cell_type": "markdown",
      "metadata": {
        "id": "ivT6RF57JnnZ",
        "colab_type": "text"
      },
      "source": [
        "### Functions\n",
        "\n",
        "> **Learning goal:** By the end of this subsection, you should understand how to pass and receive data from functions.\n",
        "\n",
        "As in other programming languages, it is often essential in Python to break down your program into reusable chunks. A primary means of doing that is through functions.\n",
        "\n",
        "For example, we could rewrite the `while` loop code snippet above as a formal function:"
      ]
    },
    {
      "cell_type": "code",
      "metadata": {
        "trusted": true,
        "id": "I1CTKe4mJnnZ",
        "colab_type": "code",
        "colab": {}
      },
      "source": [
        "def fib(n):\n",
        "    \"\"\"Print a Fibonacci series up to n.\"\"\"\n",
        "    a, b = 0, 1\n",
        "    while a < n:\n",
        "        print(a, end=', ')\n",
        "        a, b = b, a+b"
      ],
      "execution_count": null,
      "outputs": []
    },
    {
      "cell_type": "markdown",
      "metadata": {
        "id": "J5jdF96FJnna",
        "colab_type": "text"
      },
      "source": [
        "Now we can call this function and compute the Fibonacci series up to some arbitrary point:"
      ]
    },
    {
      "cell_type": "code",
      "metadata": {
        "trusted": true,
        "id": "_AbsV5F6Jnna",
        "colab_type": "code",
        "colab": {}
      },
      "source": [
        "fib(10)"
      ],
      "execution_count": null,
      "outputs": []
    },
    {
      "cell_type": "markdown",
      "metadata": {
        "id": "2ZYTn7JqJnnb",
        "colab_type": "text"
      },
      "source": [
        "Python can also define new functions on the fly. These anonymous functions are called *lambda functions* because you define them with the `lambda` keyword. Lambda functions can contain any number of arguments but only one expression."
      ]
    },
    {
      "cell_type": "code",
      "metadata": {
        "trusted": true,
        "id": "8gu1Hx3HJnnb",
        "colab_type": "code",
        "colab": {}
      },
      "source": [
        "nums = [1, 2, 3, 4, 5, 6, 7, 8, 9, 10]\n",
        "list(filter(lambda x: x % 2 != 0, nums))"
      ],
      "execution_count": null,
      "outputs": []
    },
    {
      "cell_type": "markdown",
      "metadata": {
        "id": "QVFoA2ZcJnnc",
        "colab_type": "text"
      },
      "source": [
        "> **Takeaway:** You will constantly be using functions of all kind to perform data science in Python, so understanding how functions accept, work on, and return data is critical to further progress."
      ]
    },
    {
      "cell_type": "markdown",
      "metadata": {
        "id": "e-ypjTpGJnnc",
        "colab_type": "text"
      },
      "source": [
        "### List comprehensions\n",
        "\n",
        "> **Learning goal:** By the end of this subsection, you should understand how to economically and computationally create lists.\n",
        "\n",
        "Sometimes, it makes more sense to generate a list algorithmically. Consider the last example. We really wanted just a list of numbers from 1 to 10. Rather than type those out, we can use a *list comprehension* to generate it:"
      ]
    },
    {
      "cell_type": "code",
      "metadata": {
        "trusted": true,
        "id": "BE8bEYQjJnnc",
        "colab_type": "code",
        "colab": {}
      },
      "source": [
        "numbers = [x for x in range(1,11)] # Remember to create a range 1 more than the number you actually want.\n",
        "numbers"
      ],
      "execution_count": null,
      "outputs": []
    },
    {
      "cell_type": "markdown",
      "metadata": {
        "id": "509AANDTJnne",
        "colab_type": "text"
      },
      "source": [
        "We can also perform computation on the items generated for the list:"
      ]
    },
    {
      "cell_type": "code",
      "metadata": {
        "trusted": true,
        "id": "oPfU_VHnJnnf",
        "colab_type": "code",
        "colab": {}
      },
      "source": [
        "squares = [x*x for x in range(1,11)]\n",
        "squares"
      ],
      "execution_count": null,
      "outputs": []
    },
    {
      "cell_type": "markdown",
      "metadata": {
        "id": "nFSorJrPJnng",
        "colab_type": "text"
      },
      "source": [
        "We can even perform logical tests on list items in the comprehension:"
      ]
    },
    {
      "cell_type": "code",
      "metadata": {
        "trusted": true,
        "id": "olE8aQUEJnng",
        "colab_type": "code",
        "colab": {}
      },
      "source": [
        "odd_squares = [x*x for x in range(1,11) if x % 2 != 0]\n",
        "odd_squares"
      ],
      "execution_count": null,
      "outputs": []
    },
    {
      "cell_type": "markdown",
      "metadata": {
        "id": "CBsjFGxiJnni",
        "colab_type": "text"
      },
      "source": [
        "### Exercise:"
      ]
    },
    {
      "cell_type": "code",
      "metadata": {
        "trusted": true,
        "id": "r8y1lvVvJnni",
        "colab_type": "code",
        "colab": {}
      },
      "source": [
        "# Now use a list comprehension to generate a list of odd cubes\n",
        "odd_cubes = [x*x*x for x in range(1,13) if x % 2 != 0]\n",
        "odd_cubes\n",
        "# from 1 to 2,197\n"
      ],
      "execution_count": null,
      "outputs": []
    },
    {
      "cell_type": "markdown",
      "metadata": {
        "id": "JtBOpowuJnnk",
        "colab_type": "text"
      },
      "source": [
        "> **Takeaway:** List comprehensions are a popular tool in Python because they enable the rapid, programmatic generation of lists. The economy and ease of use therefore make them an essential tool for you (in addition to a necessary topic to understand as you try to understand Python code written by others)."
      ]
    },
    {
      "cell_type": "markdown",
      "metadata": {
        "id": "y55W1wEFJnnk",
        "colab_type": "text"
      },
      "source": [
        "### Importing modules\n",
        "\n",
        "> **Learning goal:** By the end of this subsection, you should be comfortable importing modules in Python.\n",
        "\n",
        "If you quit from the Python interpreter and enter it again, the definitions you have made (your functions and variables) will be lost. Similarly, you might also want to use a handy function that you’ve written in several programs without copying its definition into each program.\n",
        "\n",
        "To support this, Python has a way to put definitions in a file and use them in a script or in an interactive instance of the interpreter. Such a file is called a [*module*](https://docs.python.org/3/tutorial/modules.html). Definitions from a module can be imported into other programs or modules.\n",
        "\n",
        "For example, the `factorial()` function is not one of the standard functions built into Python. It is part of the Python [`math`](https://docs.python.org/3/library/math.html) module. So, when we run `factorial()` before importing `math`, we get an error:"
      ]
    },
    {
      "cell_type": "markdown",
      "metadata": {
        "id": "cYFSwIlqo-kj",
        "colab_type": "text"
      },
      "source": [
        "# New Section"
      ]
    },
    {
      "cell_type": "markdown",
      "metadata": {
        "id": "EoJqcvQqo_Gr",
        "colab_type": "text"
      },
      "source": [
        "# New Section"
      ]
    },
    {
      "cell_type": "markdown",
      "metadata": {
        "id": "Zi_eV4szo_kM",
        "colab_type": "text"
      },
      "source": [
        "# New Section"
      ]
    },
    {
      "cell_type": "markdown",
      "metadata": {
        "id": "FtgRTbXbpACu",
        "colab_type": "text"
      },
      "source": [
        "# New Section"
      ]
    },
    {
      "cell_type": "markdown",
      "metadata": {
        "id": "WQ3DUe7BpAah",
        "colab_type": "text"
      },
      "source": [
        "# New Section"
      ]
    },
    {
      "cell_type": "code",
      "metadata": {
        "trusted": true,
        "id": "g_6QBa_ZJnnk",
        "colab_type": "code",
        "colab": {}
      },
      "source": [
        "factorial(5)"
      ],
      "execution_count": null,
      "outputs": []
    },
    {
      "cell_type": "markdown",
      "metadata": {
        "id": "zeTf2669Jnnl",
        "colab_type": "text"
      },
      "source": [
        "However, the situation changes after we import the `math` module:"
      ]
    },
    {
      "cell_type": "code",
      "metadata": {
        "trusted": true,
        "id": "sFl1VB42Jnnm",
        "colab_type": "code",
        "colab": {}
      },
      "source": [
        "import math\n",
        "math.factorial(5)"
      ],
      "execution_count": null,
      "outputs": []
    },
    {
      "cell_type": "markdown",
      "metadata": {
        "id": "2WfNWPLkJnnn",
        "colab_type": "text"
      },
      "source": [
        "Notice that we still have to prepend `math` to the front of the `factorial()` function. We can use a different method to import that specific function from the `math` module and use it as if it were defined in our program:"
      ]
    },
    {
      "cell_type": "code",
      "metadata": {
        "trusted": true,
        "id": "xPXRR0O6Jnno",
        "colab_type": "code",
        "colab": {}
      },
      "source": [
        "from math import factorial\n",
        "factorial(5)"
      ],
      "execution_count": null,
      "outputs": []
    },
    {
      "cell_type": "markdown",
      "metadata": {
        "id": "wPUQSl8PJnnp",
        "colab_type": "text"
      },
      "source": [
        "You can add more cells to your notebook by clicking the **insert cell below (+)** button at the top of the window. The Python [`math`](https://docs.python.org/3/library/math.html) module has many functions in it. Try importing some of the other math functions and playing around with them.\n",
        "\n",
        "> **Takeaway:** There are several Python modules that you will regularly use in conducting data science in Python, so understanding how to import them will be essential (especially in this training)."
      ]
    }
  ]
}