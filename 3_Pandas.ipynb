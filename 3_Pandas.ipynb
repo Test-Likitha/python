{
  "nbformat": 4,
  "nbformat_minor": 0,
  "metadata": {
    "anaconda-cloud": {},
    "kernelspec": {
      "name": "python3",
      "display_name": "Python 3",
      "language": "python"
    },
    "language_info": {
      "mimetype": "text/x-python",
      "nbconvert_exporter": "python",
      "name": "python",
      "pygments_lexer": "ipython3",
      "version": "3.5.4",
      "file_extension": ".py",
      "codemirror_mode": {
        "version": 3,
        "name": "ipython"
      }
    },
    "colab": {
      "name": "3-Pandas.ipynb",
      "provenance": [],
      "include_colab_link": true
    }
  },
  "cells": [
    {
      "cell_type": "markdown",
      "metadata": {
        "id": "view-in-github",
        "colab_type": "text"
      },
      "source": [
        "<a href=\"https://colab.research.google.com/github/likitha123-bp/python/blob/master/3_Pandas.ipynb\" target=\"_parent\"><img src=\"https://colab.research.google.com/assets/colab-badge.svg\" alt=\"Open In Colab\"/></a>"
      ]
    },
    {
      "cell_type": "markdown",
      "metadata": {
        "id": "CJ-NwabacOXZ",
        "colab_type": "text"
      },
      "source": [
        "# Introduction to Pandas\n",
        "\n",
        "Having explored NumPy, it is time to get to know the other workhorse of data science in Python: pandas. The pandas library in Python really does a lot to make working with data--and importing, cleaning, and organizing it--so much easier that it is hard to imagine doing data science in Python without it.\n",
        "\n",
        "But it was not always this way. Wes McKinney developed the library out of necessity in 2008 while at AQR Capital Management in order to have a better tool for dealing with data analysis. The library has since taken off as an open-source software project that has become a mature and integral part of the data science ecosystem. (In fact, some examples in this section will be drawn from McKinney's book, *Python for Data Analysis*.)\n",
        "\n",
        "The name 'pandas' actually has nothing to do with Chinese bears but rather comes from the term *panel data*, a form of multi-dimensional data involving measurements over time that comes out the econometrics and statistics community. Ironically, while panel data is a usable data structure in pandas, it is not generally used today and we will not examine it in this course. Instead, we will focus on the two most widely used data structures in pandas: `Series` and `DataFrame`s."
      ]
    },
    {
      "cell_type": "markdown",
      "metadata": {
        "id": "nC437rzNcOXf",
        "colab_type": "text"
      },
      "source": [
        "## Reminders about importing and documentation\n",
        "\n",
        "Just as you imported NumPy undwither the alias ``np``, we will import Pandas under the alias ``pd``:"
      ]
    },
    {
      "cell_type": "code",
      "metadata": {
        "trusted": true,
        "id": "-LymYSM1cOXi",
        "colab_type": "code",
        "colab": {}
      },
      "source": [
        "import pandas as pd"
      ],
      "execution_count": null,
      "outputs": []
    },
    {
      "cell_type": "markdown",
      "metadata": {
        "id": "7LArEsyvcOXp",
        "colab_type": "text"
      },
      "source": [
        "As with the NumPy convention, `pd` is an important and widely used convention in the data science world; we will use it here and we advise you to use it in your own coding.\n",
        "\n",
        "As we progress through Section 5, don't forget that IPython provides tab-completion feature and function documentation with the ``?`` character. If you don't understand anything about a function you see in this section, take a moment and read the documentation; it can help a great deal. As a reminder, to display the built-in pandas documentation, use this code:\n",
        "\n",
        "```ipython\n",
        "In [4]: pd?\n",
        "```\n",
        "\n",
        "Because it can be useful to lean about `Series` and `DataFrame`s in pandas a extension of `ndarray`s in NumPy, go ahead also import NumPy; you will want it for some of the examples later on:"
      ]
    },
    {
      "cell_type": "code",
      "metadata": {
        "trusted": true,
        "id": "N2WxZO-ecOXq",
        "colab_type": "code",
        "colab": {}
      },
      "source": [
        "import numpy as np"
      ],
      "execution_count": null,
      "outputs": []
    },
    {
      "cell_type": "markdown",
      "metadata": {
        "id": "2yo91snMcOXx",
        "colab_type": "text"
      },
      "source": [
        "Now, on to pandas!"
      ]
    },
    {
      "cell_type": "markdown",
      "metadata": {
        "id": "LVCIV2i2cOX1",
        "colab_type": "text"
      },
      "source": [
        "## Fundamental panda data structures\n",
        "\n",
        "Both `Series` and `DataFrame`s are a lot like they `ndarray`s you encountered in the last section. They provide clean, efficent data storage and handling at the scales necessary for data science. What both of them provide that `ndarray`s lack, however, are essential data-science features like flexibility when dealing with missing data and the ability to label data. These capabilities (along with others) help make `Series` and `DataFrame`s essential to the \"data munging\" that make up so much of data science."
      ]
    },
    {
      "cell_type": "markdown",
      "metadata": {
        "id": "ZNe6aLfWcOX2",
        "colab_type": "text"
      },
      "source": [
        "### `Series` objects in pandas\n",
        "\n",
        "A pandas `Series` is a lot like an `ndarray` in NumPy: a one-dimensional array of indexed data.\n",
        "You can create a simple Series from an array of data like this:"
      ]
    },
    {
      "cell_type": "code",
      "metadata": {
        "trusted": true,
        "id": "82ssoeyVcOX3",
        "colab_type": "code",
        "colab": {
          "base_uri": "https://localhost:8080/",
          "height": 104
        },
        "outputId": "bd173396-40ca-477f-ed29-0a91135e4000"
      },
      "source": [
        "series_example = pd.Series([-0.5, 0.75, 1.0, -2])\n",
        "series_example"
      ],
      "execution_count": null,
      "outputs": [
        {
          "output_type": "execute_result",
          "data": {
            "text/plain": [
              "0   -0.50\n",
              "1    0.75\n",
              "2    1.00\n",
              "3   -2.00\n",
              "dtype: float64"
            ]
          },
          "metadata": {
            "tags": []
          },
          "execution_count": 3
        }
      ]
    },
    {
      "cell_type": "markdown",
      "metadata": {
        "id": "2RmTj-dgcOX7",
        "colab_type": "text"
      },
      "source": [
        "Similar to an `ndarray`, a `Series` upcasts entries to be of the same type of data (that `-2` integer in the original array became a `-2.00` float in the `Series`).\n",
        "\n",
        "What is different from an `ndarray` is that the ``Series`` automatically wraps both a sequence of values and a sequence of indices. These are two separate objects within the `Seriers` object that can access with the ``values`` and ``index`` attributes.\n",
        "\n",
        "Try accessing the ``values`` first; they are just a familiar NumPy array:"
      ]
    },
    {
      "cell_type": "code",
      "metadata": {
        "trusted": true,
        "id": "rlZUQJUGcOX7",
        "colab_type": "code",
        "colab": {}
      },
      "source": [
        "series_example.values"
      ],
      "execution_count": null,
      "outputs": []
    },
    {
      "cell_type": "markdown",
      "metadata": {
        "id": "nybd7pk4cOYA",
        "colab_type": "text"
      },
      "source": [
        "The ``index`` is also an array-like object:"
      ]
    },
    {
      "cell_type": "code",
      "metadata": {
        "trusted": true,
        "id": "Yq9mi9dFcOYB",
        "colab_type": "code",
        "colab": {}
      },
      "source": [
        "series_example.index"
      ],
      "execution_count": null,
      "outputs": []
    },
    {
      "cell_type": "markdown",
      "metadata": {
        "id": "p2ttvXnKcOYL",
        "colab_type": "text"
      },
      "source": [
        "Just as with `ndarra`s, you can access specific data elements in a `Series` via the familiar Python square-bracket index notation and slicing:"
      ]
    },
    {
      "cell_type": "code",
      "metadata": {
        "trusted": true,
        "id": "Bict8bTDcOYL",
        "colab_type": "code",
        "colab": {}
      },
      "source": [
        "series_example[1]"
      ],
      "execution_count": null,
      "outputs": []
    },
    {
      "cell_type": "code",
      "metadata": {
        "trusted": true,
        "id": "kHulFoqScOYW",
        "colab_type": "code",
        "colab": {}
      },
      "source": [
        "series_example[1:3]"
      ],
      "execution_count": null,
      "outputs": []
    },
    {
      "cell_type": "markdown",
      "metadata": {
        "id": "fN66BKtVcOYb",
        "colab_type": "text"
      },
      "source": [
        "Despite a lot of similarities, pandas `Series` have an important distinction from NumPy `ndarrays`: whereas `ndarrays` have  *implicitly defined* integer indices (as do Python lists), pandas `Series` have *explicitly defined* indices. The best part is that you can set the index:"
      ]
    },
    {
      "cell_type": "code",
      "metadata": {
        "trusted": true,
        "id": "QgHdPxFpcOYc",
        "colab_type": "code",
        "colab": {}
      },
      "source": [
        "series_example2 = pd.Series([-0.5, 0.75, 1.0, -2], index=['a', 'b', 'c', 'd'])\n",
        "series_example2"
      ],
      "execution_count": null,
      "outputs": []
    },
    {
      "cell_type": "markdown",
      "metadata": {
        "id": "xyvqF8e9cOYh",
        "colab_type": "text"
      },
      "source": [
        "These explicit indices work exactly the way you would expect them to:"
      ]
    },
    {
      "cell_type": "code",
      "metadata": {
        "trusted": true,
        "id": "R4OO9UR-cOYh",
        "colab_type": "code",
        "colab": {}
      },
      "source": [
        "series_example2['b']"
      ],
      "execution_count": null,
      "outputs": []
    },
    {
      "cell_type": "markdown",
      "metadata": {
        "id": "er6rmmtacOYr",
        "colab_type": "text"
      },
      "source": [
        "### Exercise:"
      ]
    },
    {
      "cell_type": "code",
      "metadata": {
        "trusted": true,
        "id": "0WMHEYdYcOYs",
        "colab_type": "code",
        "colab": {}
      },
      "source": [
        "# Do explicit Series indices work *exactly* the way you might expect?\n",
        "# Try slicing series_example2 using its explicit index and find out.\n"
      ],
      "execution_count": null,
      "outputs": []
    },
    {
      "cell_type": "markdown",
      "metadata": {
        "id": "Bn7XMuzHcOYz",
        "colab_type": "text"
      },
      "source": [
        "With explicit indices in the mix, a `Series` is basically a fixed-length, ordered dictionary in that it maps arbitrary typed index values to arbitrary typed data values. But like `ndarray`s these data are all of the same type, which is important. Just as the type-specific compiled code behind `ndarray` makes them more efficient than a Python lists for certain operations, the type information of pandas ``Series`` makes them much more efficient than Python dictionaries for certain operations.\n",
        "\n",
        "But the connection between `Series` and dictionaries is nevertheless very real: you can construct a ``Series`` object directly from a Python dictionary:"
      ]
    },
    {
      "cell_type": "code",
      "metadata": {
        "trusted": true,
        "id": "gGcfSLaMcOY0",
        "colab_type": "code",
        "colab": {}
      },
      "source": [
        "population_dict = {'France': 65429495,\n",
        "                   'Germany': 82408706,\n",
        "                   'Russia': 143910127,\n",
        "                   'Japan': 126922333}\n",
        "population = pd.Series(population_dict)\n",
        "population"
      ],
      "execution_count": null,
      "outputs": []
    },
    {
      "cell_type": "markdown",
      "metadata": {
        "id": "eiJ6S0eecOY6",
        "colab_type": "text"
      },
      "source": [
        "Did you see what happened there? The order of the keys `Russia` and `Japan` in the switched places between the order in which they were entered in `population_dict` and how they ended up in the `population` `Series` object. While Python dictionary keys have no order, `Series` keys are ordered.\n",
        "\n",
        "So, at one level, you can interact with `Series` as you would with dictionaries:"
      ]
    },
    {
      "cell_type": "code",
      "metadata": {
        "trusted": true,
        "id": "S6LmPcTHcOY7",
        "colab_type": "code",
        "colab": {}
      },
      "source": [
        "population['Russia']"
      ],
      "execution_count": null,
      "outputs": []
    },
    {
      "cell_type": "markdown",
      "metadata": {
        "id": "UpDw368WcOY_",
        "colab_type": "text"
      },
      "source": [
        "But you can also do powerful array-like operations with `Series` like slicing:"
      ]
    },
    {
      "cell_type": "code",
      "metadata": {
        "trusted": true,
        "id": "xlC0oWokcOZB",
        "colab_type": "code",
        "colab": {}
      },
      "source": [
        "# Try slicing on the population Series on your own.\n",
        "# Would slicing be possible if Series keys were not ordered?\n"
      ],
      "execution_count": null,
      "outputs": []
    },
    {
      "cell_type": "markdown",
      "metadata": {
        "id": "UQMrmC3WcOZE",
        "colab_type": "text"
      },
      "source": [
        "You can also add elements to a `Series` the way that you would to an `ndarray`. Try it in the code cell below:"
      ]
    },
    {
      "cell_type": "code",
      "metadata": {
        "trusted": true,
        "id": "c1HWH_DIcOZF",
        "colab_type": "code",
        "colab": {}
      },
      "source": [
        "# Try running population['Albania'] = 2937590 (or another country of your choice)\n",
        "# What order do the keys appear in when you run population? Is it what you expected?\n"
      ],
      "execution_count": null,
      "outputs": []
    },
    {
      "cell_type": "markdown",
      "metadata": {
        "id": "O2GygGBtcOZN",
        "colab_type": "text"
      },
      "source": [
        "Anoter useful `Series` feature (and definitely a difference from dictionaries) is that `Series` automatically aligns differently indexed data in arithmetic operations:"
      ]
    },
    {
      "cell_type": "code",
      "metadata": {
        "trusted": true,
        "id": "Rij3JuWMcOZO",
        "colab_type": "code",
        "colab": {}
      },
      "source": [
        "pop2 = pd.Series({'Spain': 46432074, 'France': 102321, 'Albania': 50532})\n",
        "population + pop2"
      ],
      "execution_count": null,
      "outputs": []
    },
    {
      "cell_type": "markdown",
      "metadata": {
        "id": "UYhp5RH7cOZR",
        "colab_type": "text"
      },
      "source": [
        "Notice that in the case of Germany, Japan, Russia, and Spain (and Albania, depending on what you did in the previous exercise), the addition operation produced `NaN` (not a number) values. pandas does not treat missing values as `0`, but as `NaN` (and it can be helpful to think of arithmetic operations involving `NaN` as essentially `NaN`$ + x=$ `NaN`)."
      ]
    },
    {
      "cell_type": "markdown",
      "metadata": {
        "id": "Qp4YHXcccOZT",
        "colab_type": "text"
      },
      "source": [
        "### `DataFrame` object in pandas\n",
        "\n",
        "The other crucial data structure in pandas to get to know for data science is the `DataFrame`.\n",
        "Like the ``Series`` object, ``DataFrame``s can be thought of either as generalizations of `ndarray`s (or as specializations of Python dictionaries).\n",
        "\n",
        "Just as a ``Series`` is like a one-dimensional array with flexible indices, a ``DataFrame`` is like a two-dimensional array with both flexible row indices and flexible column names. Essentially, a `DataFrame` represents a rectangular table of data and contains an ordered collection of labeled columns, each of which can be a different value type (`string`, `int`, `float`, etc.).\n",
        "The DataFrame has both a row and column index; in this way you can think of it as a dictionary of `Series`, all of which share the same index.\n",
        "\n",
        "Let's take a look at how this works in practice. We will start by creating a `Series` called `area`:"
      ]
    },
    {
      "cell_type": "code",
      "metadata": {
        "trusted": true,
        "id": "kEyjcdJ0cOZV",
        "colab_type": "code",
        "colab": {}
      },
      "source": [
        "area_dict = {'Albania': 28748,\n",
        "             'France': 643801,\n",
        "             'Germany': 357386,\n",
        "             'Japan': 377972,\n",
        "             'Russia': 17125200}\n",
        "area = pd.Series(area_dict)\n",
        "area"
      ],
      "execution_count": null,
      "outputs": []
    },
    {
      "cell_type": "markdown",
      "metadata": {
        "id": "8NwPllQWcOZZ",
        "colab_type": "text"
      },
      "source": [
        "Now you can combine this with the `population` `Series` you created earlier by using a dictionary to construct a single two-dimensional table containing data from both `Series`:"
      ]
    },
    {
      "cell_type": "code",
      "metadata": {
        "trusted": true,
        "id": "E8s-akbqcOZa",
        "colab_type": "code",
        "colab": {}
      },
      "source": [
        "countries = pd.DataFrame({'Population': population, 'Area': area})\n",
        "countries"
      ],
      "execution_count": null,
      "outputs": []
    },
    {
      "cell_type": "markdown",
      "metadata": {
        "id": "_nQFj26ecOZc",
        "colab_type": "text"
      },
      "source": [
        "As with `Series`, note that `DataFrame`s also automatically order indices (in this case, the column indices `Area` and `Population`).\n",
        "\n",
        "So far we have combined dictionaries together to compose a `DataFrame` (which has given our `DataFrame` a row-centric feel), but you can also create `DataFrame`s in a column-wise fashion. Consider adding a `Capital` column using our reliable old array-analog, a list:"
      ]
    },
    {
      "cell_type": "code",
      "metadata": {
        "trusted": true,
        "id": "_mAKlL-qcOZc",
        "colab_type": "code",
        "colab": {}
      },
      "source": [
        "countries['Capital'] = ['Tirana', 'Paris', 'Berlin', 'Tokyo', 'Moscow']\n",
        "countries"
      ],
      "execution_count": null,
      "outputs": []
    },
    {
      "cell_type": "markdown",
      "metadata": {
        "id": "gKBwk82ecOZg",
        "colab_type": "text"
      },
      "source": [
        "As with `Series`, even though initial indices are ordered in `DataFrame`s, subsequent additions to a `DataFrame` stay in the ordered added. However, you can explicitly change the order of `DataFrame` column indices this way:"
      ]
    },
    {
      "cell_type": "code",
      "metadata": {
        "trusted": true,
        "id": "K8ZhbpLVcOZg",
        "colab_type": "code",
        "colab": {}
      },
      "source": [
        "countries = countries[['Capital', 'Area', 'Population']]\n",
        "countries"
      ],
      "execution_count": null,
      "outputs": []
    },
    {
      "cell_type": "markdown",
      "metadata": {
        "id": "JdKgk7yVcOZj",
        "colab_type": "text"
      },
      "source": [
        "Commonly in a data science context, it is necessary to generate new columns of data from existing data sets. Because `DataFrame` columns behave like `Series`, you can do this is by performing operations on them as you would with `Series`:"
      ]
    },
    {
      "cell_type": "code",
      "metadata": {
        "trusted": true,
        "id": "cU_q75LccOZj",
        "colab_type": "code",
        "colab": {}
      },
      "source": [
        "countries['Population Density'] = countries['Population'] / countries['Area']\n",
        "countries"
      ],
      "execution_count": null,
      "outputs": []
    },
    {
      "cell_type": "markdown",
      "metadata": {
        "id": "aB_omaoTcOZo",
        "colab_type": "text"
      },
      "source": [
        "Note: don't worry if IPython gives you a warning over this. The warning is IPython trying to be a little too helpful. The new column you created is an actual part of the `DataFrame` and not a copy of a slice."
      ]
    },
    {
      "cell_type": "markdown",
      "metadata": {
        "id": "GwZBrOk4cOZp",
        "colab_type": "text"
      },
      "source": [
        "We have stated before that `DataFrame`s are like dictionaries, and it's true. You can retrieve the contents of a column just as you would the value for a specific key in an ordinary dictionary:"
      ]
    },
    {
      "cell_type": "code",
      "metadata": {
        "trusted": true,
        "id": "ZpG2tXGkcOZq",
        "colab_type": "code",
        "colab": {}
      },
      "source": [
        "countries['Area']"
      ],
      "execution_count": null,
      "outputs": []
    },
    {
      "cell_type": "markdown",
      "metadata": {
        "id": "zlNEkjsrcOZv",
        "colab_type": "text"
      },
      "source": [
        "What about using the row indices?"
      ]
    },
    {
      "cell_type": "code",
      "metadata": {
        "trusted": true,
        "id": "3xf2BdxIcOZv",
        "colab_type": "code",
        "colab": {}
      },
      "source": [
        "# Now try accessing row data with a command like countries['Japan']\n"
      ],
      "execution_count": null,
      "outputs": []
    },
    {
      "cell_type": "markdown",
      "metadata": {
        "id": "dtEwflYccOZz",
        "colab_type": "text"
      },
      "source": [
        "This returns an error: `DataFrame`s are dictionaries of `Series`, which are the columns. `DataFrame` rows often have heterogeneous data types, so different methods are necessary to access row data. For that, we use the `.loc` method:"
      ]
    },
    {
      "cell_type": "code",
      "metadata": {
        "trusted": true,
        "id": "V4FdyV5UcOZ0",
        "colab_type": "code",
        "colab": {}
      },
      "source": [
        "countries.loc['Japan']"
      ],
      "execution_count": null,
      "outputs": []
    },
    {
      "cell_type": "markdown",
      "metadata": {
        "id": "VbukY801cOZ3",
        "colab_type": "text"
      },
      "source": [
        "Note that what `.loc` returns is an indexed object in its own right and you can access elements within it using familiar index syntax:"
      ]
    },
    {
      "cell_type": "code",
      "metadata": {
        "trusted": true,
        "id": "WqOR1jC9cOZ4",
        "colab_type": "code",
        "colab": {}
      },
      "source": [
        "countries.loc['Japan']['Area']"
      ],
      "execution_count": null,
      "outputs": []
    },
    {
      "cell_type": "code",
      "metadata": {
        "trusted": true,
        "id": "ff6ATD1acOZ8",
        "colab_type": "code",
        "colab": {}
      },
      "source": [
        "# Can you think of a way to return the area of Japan without using .iloc?\n",
        "# Hint: Try putting the column index first.\n",
        "# Can you slice along these indices as well?\n"
      ],
      "execution_count": null,
      "outputs": []
    },
    {
      "cell_type": "markdown",
      "metadata": {
        "id": "K6rkQTXNcOaA",
        "colab_type": "text"
      },
      "source": [
        "Sometimes it is helpful in data science projects to add a column to a `DataFrame` without assigning values to it:"
      ]
    },
    {
      "cell_type": "code",
      "metadata": {
        "trusted": true,
        "id": "GH4W_Tv8cOaB",
        "colab_type": "code",
        "colab": {}
      },
      "source": [
        "countries['Debt-to-GDP Ratio'] = np.nan\n",
        "countries"
      ],
      "execution_count": null,
      "outputs": []
    },
    {
      "cell_type": "markdown",
      "metadata": {
        "id": "TqY7sneJcOaE",
        "colab_type": "text"
      },
      "source": [
        "Again, you can disregard the warning (if it triggers) about adding the column this way.\n",
        "\n",
        "You can also add columns to a `DataFrame` that do not have the same number of rows as the `DataFrame`:"
      ]
    },
    {
      "cell_type": "code",
      "metadata": {
        "trusted": true,
        "id": "fQbL4ZPbcOaE",
        "colab_type": "code",
        "colab": {}
      },
      "source": [
        "debt = pd.Series([0.19, 2.36], index=['Russia', 'Japan'])\n",
        "countries['Debt-to-GDP Ratio'] = debt\n",
        "countries"
      ],
      "execution_count": null,
      "outputs": []
    },
    {
      "cell_type": "markdown",
      "metadata": {
        "id": "hLV4XlWQcOaH",
        "colab_type": "text"
      },
      "source": [
        "You can use the `del` command to delete a column from a `DataFrame`:"
      ]
    },
    {
      "cell_type": "code",
      "metadata": {
        "trusted": true,
        "id": "-EC-I0BEcOaH",
        "colab_type": "code",
        "colab": {}
      },
      "source": [
        "del countries['Capital']\n",
        "countries"
      ],
      "execution_count": null,
      "outputs": []
    },
    {
      "cell_type": "markdown",
      "metadata": {
        "id": "VxO6Q1zbcOaM",
        "colab_type": "text"
      },
      "source": [
        "In addition to their dictionary-like behavior, `DataFrames` also behave like two-dimensional arrays. For example, it can be useful at times when working with a `DataFrame` to transpose it:"
      ]
    },
    {
      "cell_type": "code",
      "metadata": {
        "trusted": true,
        "id": "61euuhspcOaM",
        "colab_type": "code",
        "colab": {}
      },
      "source": [
        "countries.T"
      ],
      "execution_count": null,
      "outputs": []
    },
    {
      "cell_type": "markdown",
      "metadata": {
        "id": "_B0Fjz9scOaP",
        "colab_type": "text"
      },
      "source": [
        "Again, note that `DataFrame` columns are `Series` and thus the data types must consistent, hence the upcasting to floating-point numbers. **If there had been strings in this `DataFrame`, everything would have been upcast to strings.** Use caution when transposing `DataFrame`s."
      ]
    },
    {
      "cell_type": "markdown",
      "metadata": {
        "id": "obB8WKJAcOaP",
        "colab_type": "text"
      },
      "source": [
        "#### From a two-dimensional NumPy array\n",
        "\n",
        "Given a two-dimensional array of data, we can create a ``DataFrame`` with any specified column and index names.\n",
        "If omitted, an integer index will be used for each:"
      ]
    },
    {
      "cell_type": "code",
      "metadata": {
        "trusted": true,
        "id": "qllSjelbcOaQ",
        "colab_type": "code",
        "colab": {}
      },
      "source": [
        "pd.DataFrame(np.random.rand(3, 2),\n",
        "             columns=['foo', 'bar'],\n",
        "             index=['a', 'b', 'c'])"
      ],
      "execution_count": null,
      "outputs": []
    },
    {
      "cell_type": "markdown",
      "metadata": {
        "id": "pOrQEjrocOaS",
        "colab_type": "text"
      },
      "source": [
        "## Manipulating data in pandas\n",
        "\n",
        "A huge part of data science is manipulating data in order to analyze it. (One rule of thumb is that 80% of any data science project will be concerned with cleaning and organizing the data for the project.) So it makes sense to lear the tools that pandas provides for handling data in `Series` and especially `DataFrame`s. Because both of those data structures are ordered, let's first start by taking a closer look at what gives them their structure: the `Index`."
      ]
    },
    {
      "cell_type": "markdown",
      "metadata": {
        "id": "gJftZtYycOaT",
        "colab_type": "text"
      },
      "source": [
        "### Index objects in pandas\n",
        "\n",
        "Both ``Series`` and ``DataFrame``s in pandas have explicit indices that enable you to reference and modify data in them. These indices are actually objects themselves. The ``Index`` object can be thought of as both an immutable array or as fixed-size set. \n",
        "\n",
        "It's worth the time to get to know the properties of the `Index` object. Let's return to an example from earlier in the section to examine these properties."
      ]
    },
    {
      "cell_type": "code",
      "metadata": {
        "trusted": true,
        "id": "L6TwvLBtcOaV",
        "colab_type": "code",
        "colab": {}
      },
      "source": [
        "series_example = pd.Series([-0.5, 0.75, 1.0, -2], index=['a', 'b', 'c', 'd'])\n",
        "ind = series_example.index\n",
        "ind"
      ],
      "execution_count": null,
      "outputs": []
    },
    {
      "cell_type": "markdown",
      "metadata": {
        "id": "3pVDUiC0cOaX",
        "colab_type": "text"
      },
      "source": [
        "The ``Index`` works a lot like an array. we have already seen how to use standard Python indexing notation to retrieve values or slices:"
      ]
    },
    {
      "cell_type": "code",
      "metadata": {
        "trusted": true,
        "id": "iJkWqrvTcOaY",
        "colab_type": "code",
        "colab": {}
      },
      "source": [
        "ind[1]"
      ],
      "execution_count": null,
      "outputs": []
    },
    {
      "cell_type": "code",
      "metadata": {
        "trusted": true,
        "id": "TARKsXdncOaf",
        "colab_type": "code",
        "colab": {}
      },
      "source": [
        "ind[::2]"
      ],
      "execution_count": null,
      "outputs": []
    },
    {
      "cell_type": "markdown",
      "metadata": {
        "id": "hYpchokucOak",
        "colab_type": "text"
      },
      "source": [
        "But ``Index`` objects are immutable; you cannot be modified via the normal means:"
      ]
    },
    {
      "cell_type": "code",
      "metadata": {
        "trusted": true,
        "id": "grEZvXMVcOal",
        "colab_type": "code",
        "colab": {}
      },
      "source": [
        "ind[1] = 0"
      ],
      "execution_count": null,
      "outputs": []
    },
    {
      "cell_type": "markdown",
      "metadata": {
        "id": "wabx0_-ScOap",
        "colab_type": "text"
      },
      "source": [
        "This immutability is a good thing: it makes it safer to share indices between multiple ``Series`` or ``DataFrame``s without the potential for problems arising from inadvertent index modification."
      ]
    },
    {
      "cell_type": "markdown",
      "metadata": {
        "id": "DXEUYmhGcOar",
        "colab_type": "text"
      },
      "source": [
        "In addition to being array-like, a Index also behaves like a fixed-size set, including following many of the conventions used by Python's built-in ``set`` data structure, so that unions, intersections, differences, and other combinations can be computed in a familiar way. Let's play around with this to see it in action."
      ]
    },
    {
      "cell_type": "code",
      "metadata": {
        "trusted": true,
        "id": "_ZJ25ujgcOat",
        "colab_type": "code",
        "colab": {}
      },
      "source": [
        "ind_odd = pd.Index([1, 3, 5, 7, 9])\n",
        "ind_prime = pd.Index([2, 3, 5, 7, 11])"
      ],
      "execution_count": null,
      "outputs": []
    },
    {
      "cell_type": "markdown",
      "metadata": {
        "id": "6Q-wXQoicOa2",
        "colab_type": "text"
      },
      "source": [
        "In the code cell below, try out the intersection (`ind_odd & ind_prime`), union (`ind_odd | ind_prime`), and the symmetric difference (`ind_odd ^ ind_prime`) of `ind_odd` and `ind_prime`."
      ]
    },
    {
      "cell_type": "code",
      "metadata": {
        "trusted": true,
        "id": "_Rs1asG3cOa2",
        "colab_type": "code",
        "colab": {}
      },
      "source": [
        ""
      ],
      "execution_count": null,
      "outputs": []
    },
    {
      "cell_type": "markdown",
      "metadata": {
        "id": "qSv4subPcOa5",
        "colab_type": "text"
      },
      "source": [
        "These operations may also be accessed via object methods, for example ``ind_odd.intersection(ind_prime)``. Below is a table listing some useful `Index` methods and properties."
      ]
    },
    {
      "cell_type": "markdown",
      "metadata": {
        "id": "LgAkwGyycOa8",
        "colab_type": "text"
      },
      "source": [
        "| **Method**     | **Description**                                                                           |\n",
        "|:---------------|:------------------------------------------------------------------------------------------|\n",
        "| [`append`](https://pandas.pydata.org/pandas-docs/stable/reference/api/pandas.DataFrame.append.html)       | Concatenate with additional `Index` objects, producing a new `Index`                      |\n",
        "| [`diff`](https://pandas.pydata.org/pandas-docs/stable/reference/api/pandas.DataFrame.diff.html)         | Compute set difference as an Index                                                        |\n",
        "| [`drop`](https://pandas.pydata.org/pandas-docs/stable/reference/api/pandas.DataFrame.drop.html)         | Compute new `Index` by deleting passed values                                             |\n",
        "| [`insert`](https://pandas.pydata.org/pandas-docs/stable/reference/api/pandas.DataFrame.insert.html)       | Compute new `Index` by inserting element at index `i`                                     |\n",
        "| [`is_monotonic`](https://pandas.pydata.org/pandas-docs/stable/reference/api/pandas.Series.is_monotonic.html) | Returns `True` if each element is greater than or equal to the previous element           |\n",
        "| [`is_unique`](https://pandas.pydata.org/pandas-docs/stable/reference/api/pandas.Series.is_unique.html)    | Returns `True` if the Index has no duplicate values                                       |\n",
        "| [`isin`](https://pandas.pydata.org/pandas-docs/stable/reference/api/pandas.DataFrame.isin.html)         | Compute boolean array indicating whether each value is contained in the passed collection |\n",
        "| [`unique`](https://pandas.pydata.org/pandas-docs/stable/reference/api/pandas.Series.unique.html)       | Compute the array of unique values in order of appearance                                         |"
      ]
    },
    {
      "cell_type": "markdown",
      "metadata": {
        "id": "8GvhHAJScOa9",
        "colab_type": "text"
      },
      "source": [
        "### Data Selection in Series\n",
        "\n",
        "As a refresher, a ``Series`` object acts in many ways like both a one-dimensional `ndarray` and a standard Python dictionary.\n",
        "\n",
        "Like a dictionary, the ``Series`` object provides a mapping from a collection of arbitrary keys to a collection of arbitrary values. Back to an old example:"
      ]
    },
    {
      "cell_type": "code",
      "metadata": {
        "trusted": true,
        "id": "IpZSFPGkcOa-",
        "colab_type": "code",
        "colab": {}
      },
      "source": [
        "series_example2 = pd.Series([-0.5, 0.75, 1.0, -2], index=['a', 'b', 'c', 'd'])\n",
        "series_example2"
      ],
      "execution_count": null,
      "outputs": []
    },
    {
      "cell_type": "code",
      "metadata": {
        "trusted": true,
        "id": "AZih2TN3cObB",
        "colab_type": "code",
        "colab": {}
      },
      "source": [
        "series_example2['b']"
      ],
      "execution_count": null,
      "outputs": []
    },
    {
      "cell_type": "markdown",
      "metadata": {
        "id": "L2WLENYKcObG",
        "colab_type": "text"
      },
      "source": [
        "You can also examine the keys/indices and values using dictionary-like Python tools:"
      ]
    },
    {
      "cell_type": "code",
      "metadata": {
        "trusted": true,
        "id": "5Je67ENvcObH",
        "colab_type": "code",
        "colab": {}
      },
      "source": [
        "'a' in series_example2"
      ],
      "execution_count": null,
      "outputs": []
    },
    {
      "cell_type": "code",
      "metadata": {
        "trusted": true,
        "id": "uAKSL6H5cObM",
        "colab_type": "code",
        "colab": {}
      },
      "source": [
        "series_example2.keys()"
      ],
      "execution_count": null,
      "outputs": []
    },
    {
      "cell_type": "code",
      "metadata": {
        "trusted": true,
        "id": "jZdrkw1LcObQ",
        "colab_type": "code",
        "colab": {}
      },
      "source": [
        "list(series_example2.items())"
      ],
      "execution_count": null,
      "outputs": []
    },
    {
      "cell_type": "markdown",
      "metadata": {
        "id": "v6K80F1IcObS",
        "colab_type": "text"
      },
      "source": [
        "As with dictionaries, you can extend a dictionary by assigning to a new key, you can extend a ``Series`` by assigning to a new index value:"
      ]
    },
    {
      "cell_type": "code",
      "metadata": {
        "trusted": true,
        "id": "XoQSbYxhcObS",
        "colab_type": "code",
        "colab": {}
      },
      "source": [
        "series_example2['e'] = 1.25\n",
        "series_example2"
      ],
      "execution_count": null,
      "outputs": []
    },
    {
      "cell_type": "markdown",
      "metadata": {
        "id": "zTYKfq-jcObV",
        "colab_type": "text"
      },
      "source": [
        "#### Series as one-dimensional array\n",
        "\n",
        "Because ``Series`` also provide array-style functionality, you can use the NumPy techniques we looked at in Section 3 like slices, masking, and fancy indexing:"
      ]
    },
    {
      "cell_type": "code",
      "metadata": {
        "trusted": true,
        "id": "L936xgkkcObY",
        "colab_type": "code",
        "colab": {}
      },
      "source": [
        "# Slicing using the explicit index\n",
        "series_example2['a':'c']"
      ],
      "execution_count": null,
      "outputs": []
    },
    {
      "cell_type": "code",
      "metadata": {
        "trusted": true,
        "id": "0sivm9vIcObi",
        "colab_type": "code",
        "colab": {}
      },
      "source": [
        "# Slicing using the implicit integer index\n",
        "series_example2[0:2]"
      ],
      "execution_count": null,
      "outputs": []
    },
    {
      "cell_type": "code",
      "metadata": {
        "trusted": true,
        "id": "e0Te0EFGcObn",
        "colab_type": "code",
        "colab": {}
      },
      "source": [
        "# Masking\n",
        "series_example2[(series_example2 > -1) & (series_example2 < 0.8)]"
      ],
      "execution_count": null,
      "outputs": []
    },
    {
      "cell_type": "code",
      "metadata": {
        "trusted": true,
        "id": "3R-V0BUscObt",
        "colab_type": "code",
        "colab": {}
      },
      "source": [
        "# Fancy indexing\n",
        "series_example2[['a', 'e']]"
      ],
      "execution_count": null,
      "outputs": []
    },
    {
      "cell_type": "markdown",
      "metadata": {
        "id": "QiOYynyZcOb1",
        "colab_type": "text"
      },
      "source": [
        "One note to avoid confusion. When slicing with an explicit index (i.e., ``series_example2['a':'c']``), the final index is **included** in the slice; when slicing with an implicit index (i.e., ``series_example2[0:2]``), the final index is **excluded** from the slice."
      ]
    },
    {
      "cell_type": "markdown",
      "metadata": {
        "id": "CspAzHn8cOb4",
        "colab_type": "text"
      },
      "source": [
        "#### Indexers: `loc` and `iloc`\n",
        "\n",
        "A great thing about pandas is that you can use a lot different things for your explicit indices. A potentially confusing thing about pandas is that you can use a lot different things for your explicit indices, including integers. To avoid confusion between integer indices that you might supply and those implicit integer indices that pandas generates, pandas provides special *indexer* attributes that explicitly expose certain indexing schemes.\n",
        "\n",
        "(A technical note: These are not functional methods; they are attributes that expose a particular slicing interface to the data in the ``Series``.)\n",
        "\n",
        "The ``loc`` attribute allows indexing and slicing that always references the explicit index:"
      ]
    },
    {
      "cell_type": "code",
      "metadata": {
        "trusted": true,
        "id": "KS3Ve7O4cOb5",
        "colab_type": "code",
        "colab": {}
      },
      "source": [
        "series_example2.loc['a']"
      ],
      "execution_count": null,
      "outputs": []
    },
    {
      "cell_type": "code",
      "metadata": {
        "trusted": true,
        "id": "jpPzaJ7TcOb8",
        "colab_type": "code",
        "colab": {}
      },
      "source": [
        "series_example2.loc['a':'c']"
      ],
      "execution_count": null,
      "outputs": []
    },
    {
      "cell_type": "markdown",
      "metadata": {
        "id": "7SKyOIB2cOcH",
        "colab_type": "text"
      },
      "source": [
        "The ``iloc`` attribute enables indexing and slicing using the implicit, Python-style index:"
      ]
    },
    {
      "cell_type": "code",
      "metadata": {
        "trusted": true,
        "id": "vyZbFdxMcOcH",
        "colab_type": "code",
        "colab": {}
      },
      "source": [
        "series_example2.iloc[0]"
      ],
      "execution_count": null,
      "outputs": []
    },
    {
      "cell_type": "code",
      "metadata": {
        "trusted": true,
        "id": "E1ql3u3HcOcN",
        "colab_type": "code",
        "colab": {}
      },
      "source": [
        "series_example2.iloc[0:2]"
      ],
      "execution_count": null,
      "outputs": []
    },
    {
      "cell_type": "markdown",
      "metadata": {
        "id": "ZA5I--gZcOcR",
        "colab_type": "text"
      },
      "source": [
        "A guiding principle of the Python language is the idea that \"explicit is better than implicit.\" Professional code will generally use explicit indexing with ``loc`` and ``iloc`` and you should as well in order to make your code clean and readable."
      ]
    },
    {
      "cell_type": "markdown",
      "metadata": {
        "id": "w5vRjsCqcOcS",
        "colab_type": "text"
      },
      "source": [
        "### Data selection in DataFrames\n",
        "\n",
        "``DataFrame``s also exhibit dual behavior, acting both like a two-dimensional `ndarray` and like a dictionary of ``Series``  sharing the same index."
      ]
    },
    {
      "cell_type": "markdown",
      "metadata": {
        "id": "96S6edPicOcU",
        "colab_type": "text"
      },
      "source": [
        "#### DataFrame as dictionary of Series\n",
        "\n",
        "Let's return to our earlier example of countries' areas and populations in order to examine `DataFrame`s as a dictionary of `Series`."
      ]
    },
    {
      "cell_type": "code",
      "metadata": {
        "trusted": true,
        "id": "nPyWBA8ScOcU",
        "colab_type": "code",
        "colab": {}
      },
      "source": [
        "area = pd.Series({'Albania': 28748,\n",
        "                  'France': 643801,\n",
        "                  'Germany': 357386,\n",
        "                  'Japan': 377972,\n",
        "                  'Russia': 17125200})\n",
        "population = pd.Series ({'Albania': 2937590,\n",
        "                         'France': 65429495,\n",
        "                         'Germany': 82408706,\n",
        "                         'Russia': 143910127,\n",
        "                         'Japan': 126922333})\n",
        "countries = pd.DataFrame({'Area': area, 'Population': population})\n",
        "countries"
      ],
      "execution_count": null,
      "outputs": []
    },
    {
      "cell_type": "markdown",
      "metadata": {
        "id": "k4zzmqe6cOcZ",
        "colab_type": "text"
      },
      "source": [
        "You can access the individual ``Series`` that make up the columns of a ``DataFrame`` via dictionary-style indexing of the column name:"
      ]
    },
    {
      "cell_type": "code",
      "metadata": {
        "trusted": true,
        "id": "_6QRzx68cOcZ",
        "colab_type": "code",
        "colab": {}
      },
      "source": [
        "countries['Area']"
      ],
      "execution_count": null,
      "outputs": []
    },
    {
      "cell_type": "markdown",
      "metadata": {
        "id": "Q9yabdpBcOcb",
        "colab_type": "text"
      },
      "source": [
        "An you can use dictionary-style syntax can also be used to modify `DataFrame`s, such as by adding a new column:"
      ]
    },
    {
      "cell_type": "code",
      "metadata": {
        "trusted": true,
        "id": "yipE-SlKcOcb",
        "colab_type": "code",
        "colab": {}
      },
      "source": [
        "countries['Population Density'] = countries['Population'] / countries['Area']\n",
        "countries"
      ],
      "execution_count": null,
      "outputs": []
    },
    {
      "cell_type": "markdown",
      "metadata": {
        "id": "rdkL8f5ccOcd",
        "colab_type": "text"
      },
      "source": [
        "#### DataFrame as two-dimensional array\n",
        "\n",
        "You can also think of ``DataFrame``s as two-dimensional arrays. You can examine the raw data in the `DataFrame`/data array using the ``values`` attribute:"
      ]
    },
    {
      "cell_type": "code",
      "metadata": {
        "trusted": true,
        "id": "V_VwVSd-cOcd",
        "colab_type": "code",
        "colab": {}
      },
      "source": [
        "countries.values"
      ],
      "execution_count": null,
      "outputs": []
    },
    {
      "cell_type": "markdown",
      "metadata": {
        "id": "JTJaYRNfcOcf",
        "colab_type": "text"
      },
      "source": [
        "Viewed thsi way it makes sense that we can transpose the rows and columns of a `DataFrame` the same way we would an array:"
      ]
    },
    {
      "cell_type": "code",
      "metadata": {
        "trusted": true,
        "id": "mzXiNjsgcOcf",
        "colab_type": "code",
        "colab": {}
      },
      "source": [
        "countries.T"
      ],
      "execution_count": null,
      "outputs": []
    },
    {
      "cell_type": "markdown",
      "metadata": {
        "collapsed": true,
        "id": "TzRpyioncOch",
        "colab_type": "text"
      },
      "source": [
        "`DataFrame`s also uses the ``loc`` and ``iloc`` indexers. With ``iloc``, you can index the underlying array as if it were an `ndarray` but with the ``DataFrame`` index and column labels maintained in the result:"
      ]
    },
    {
      "cell_type": "code",
      "metadata": {
        "trusted": true,
        "id": "q5SH9kiFcOch",
        "colab_type": "code",
        "colab": {}
      },
      "source": [
        "countries.iloc[:3, :2]"
      ],
      "execution_count": null,
      "outputs": []
    },
    {
      "cell_type": "markdown",
      "metadata": {
        "id": "udFmNk9UcOcj",
        "colab_type": "text"
      },
      "source": [
        "``loc`` also permits array-like slicing but using the explicit index and column names:"
      ]
    },
    {
      "cell_type": "code",
      "metadata": {
        "trusted": true,
        "id": "5_n9wWbDcOcj",
        "colab_type": "code",
        "colab": {}
      },
      "source": [
        "countries.loc[:'Germany', :'Population']"
      ],
      "execution_count": null,
      "outputs": []
    },
    {
      "cell_type": "markdown",
      "metadata": {
        "collapsed": true,
        "id": "Pco0uaRdcOck",
        "colab_type": "text"
      },
      "source": [
        "You can also use array-like techniques such as masking and fancing indexing with `loc`."
      ]
    },
    {
      "cell_type": "code",
      "metadata": {
        "trusted": true,
        "id": "F-cAxREGcOcl",
        "colab_type": "code",
        "colab": {}
      },
      "source": [
        "# Can you think of how to combine masking and fancy indexing in one line?\n",
        "# Your masking could be somthing like countries['Population Density'] > 200\n",
        "# Your fancy indexing could be something like ['Population', 'Population Density']\n",
        "# Be sure to put the the masking and fancy indexing inside the square brackets: countries.loc[]\n"
      ],
      "execution_count": null,
      "outputs": []
    },
    {
      "cell_type": "markdown",
      "metadata": {
        "id": "SWzH4POVcOco",
        "colab_type": "text"
      },
      "source": [
        "#### Indexing conventions\n",
        "\n",
        "In practice in the world of data science (and pandas more generally), *indexing* refers to columns while *slicing* refers to rows:"
      ]
    },
    {
      "cell_type": "code",
      "metadata": {
        "trusted": true,
        "id": "o2ymsAwrcOco",
        "colab_type": "code",
        "colab": {}
      },
      "source": [
        "countries['France':'Japan']"
      ],
      "execution_count": null,
      "outputs": []
    },
    {
      "cell_type": "markdown",
      "metadata": {
        "id": "LcXVKW8PcOcq",
        "colab_type": "text"
      },
      "source": [
        "Such slices can also refer to rows by number rather than by index:"
      ]
    },
    {
      "cell_type": "code",
      "metadata": {
        "trusted": true,
        "id": "NlNfBtKJcOcq",
        "colab_type": "code",
        "colab": {}
      },
      "source": [
        "countries[1:3]"
      ],
      "execution_count": null,
      "outputs": []
    },
    {
      "cell_type": "markdown",
      "metadata": {
        "id": "hqD_492tcOcv",
        "colab_type": "text"
      },
      "source": [
        "Similarly, direct masking operations are also interpreted row-wise rather than column-wise:"
      ]
    },
    {
      "cell_type": "code",
      "metadata": {
        "trusted": true,
        "id": "IOYxf1HwcOcw",
        "colab_type": "code",
        "colab": {}
      },
      "source": [
        "countries[countries['Population Density'] > 200]"
      ],
      "execution_count": null,
      "outputs": []
    },
    {
      "cell_type": "markdown",
      "metadata": {
        "id": "QVpExKkRcOcz",
        "colab_type": "text"
      },
      "source": [
        "These two conventions are syntactically similar to those on a NumPy array, and while these may not precisely fit the mold of the Pandas conventions, they are nevertheless quite useful in practice."
      ]
    },
    {
      "cell_type": "markdown",
      "metadata": {
        "id": "Wr8MgwjUcOc0",
        "colab_type": "text"
      },
      "source": [
        "# Operating on Data in Pandas\n",
        "\n",
        "As you begin to work in data science, operating on data is imperative. It is the very heart of data science. Another aspect of pandas that makes it a compelling tool for many data scientists is pandas' capability to perform efficient element-wise operations on data. pandas builds on ufuncs from NumPy to supply theses capabilities and then extends them to provide additional power for data manipulation:\n",
        " - For unary operations (such as negation and trigonometric functions), ufuncs in pandas **preserve index and column labels** in the output.\n",
        " - For binary operations (such as addition and multiplication), pandas automatically **aligns indices** when passing objects to  ufuncs.\n",
        "\n",
        "These critical features of ufuncs in pandas mean that data retains its context when operated on and, more importantly still, drastically helps reduce errors when you combine data from multiple sources."
      ]
    },
    {
      "cell_type": "markdown",
      "metadata": {
        "id": "2zPd7C6qcOc1",
        "colab_type": "text"
      },
      "source": [
        "## Index Preservation\n",
        "\n",
        "pandas is explicitly designed to work with NumPy. As a results, all NumPy ufuncs will work on Pandas ``Series`` and ``DataFrame`` objects.\n",
        "\n",
        "We can see this more clearly if we create a simple ``Series`` and ``DataFrame`` of random numbers on which to operate. "
      ]
    },
    {
      "cell_type": "code",
      "metadata": {
        "trusted": true,
        "id": "AkL6Q0XZcOc1",
        "colab_type": "code",
        "colab": {}
      },
      "source": [
        "rng = np.random.RandomState(42)\n",
        "ser_example = pd.Series(rng.randint(0, 10, 4))\n",
        "ser_example"
      ],
      "execution_count": null,
      "outputs": []
    },
    {
      "cell_type": "markdown",
      "metadata": {
        "id": "ePxkn2bYcOc4",
        "colab_type": "text"
      },
      "source": [
        "Did you notice the NumPy function we used with the variable `rng`? By specifying a seed for the random-number generator, you get the same result each time. This can be useful trick when you need to produce psuedo-random output that also needs to be replicatable by others. (Go ahead and re-run the code cell above a couple of times to convince yourself that it produces the same output each time.)"
      ]
    },
    {
      "cell_type": "code",
      "metadata": {
        "trusted": true,
        "id": "s9SLl2oVcOc4",
        "colab_type": "code",
        "colab": {}
      },
      "source": [
        "df_example = pd.DataFrame(rng.randint(0, 10, (3, 4)),\n",
        "                  columns=['A', 'B', 'C', 'D'])\n",
        "df_example"
      ],
      "execution_count": null,
      "outputs": []
    },
    {
      "cell_type": "markdown",
      "metadata": {
        "id": "Cm1KGiVOcOc8",
        "colab_type": "text"
      },
      "source": [
        "Let's apply a ufunc to our example `Series`:"
      ]
    },
    {
      "cell_type": "code",
      "metadata": {
        "trusted": true,
        "id": "VZ_lkLcAcOc9",
        "colab_type": "code",
        "colab": {}
      },
      "source": [
        "np.exp(ser_example)"
      ],
      "execution_count": null,
      "outputs": []
    },
    {
      "cell_type": "markdown",
      "metadata": {
        "id": "ZS0yXOoKcOc_",
        "colab_type": "text"
      },
      "source": [
        "The same thing happens with a slightly more complex operation on our example `DataFrame`:"
      ]
    },
    {
      "cell_type": "code",
      "metadata": {
        "trusted": true,
        "id": "JKBge44ncOdA",
        "colab_type": "code",
        "colab": {}
      },
      "source": [
        "np.cos(df_example * np.pi / 4)"
      ],
      "execution_count": null,
      "outputs": []
    },
    {
      "cell_type": "markdown",
      "metadata": {
        "id": "RE8Z8xwqcOdC",
        "colab_type": "text"
      },
      "source": [
        "Note that you can use all of the ufuncs we discussed in Section 3 the same way."
      ]
    },
    {
      "cell_type": "markdown",
      "metadata": {
        "id": "c6wKMzRvcOdC",
        "colab_type": "text"
      },
      "source": [
        "## Index alignment\n",
        "\n",
        "As mentioned above, when you perform a binary operation on two ``Series`` or ``DataFrame`` objects, pandas will align indices in the process of performing the operation. This is essential when working with incomplete data (and data is usually incomplete), but it is helpful to see this in action to better understand it."
      ]
    },
    {
      "cell_type": "markdown",
      "metadata": {
        "id": "lHEiTYe7cOdD",
        "colab_type": "text"
      },
      "source": [
        "### Index alignment with Series\n",
        "\n",
        "For our first example, suppose we are combining two different data sources and find only the top five countries by *area* and the top five countries by *population*:"
      ]
    },
    {
      "cell_type": "code",
      "metadata": {
        "trusted": true,
        "id": "AS1LJdpfcOdD",
        "colab_type": "code",
        "colab": {}
      },
      "source": [
        "area = pd.Series({'Russia': 17075400, 'Canada':  9984670,\n",
        "                  'USA': 9826675, 'China': 9598094, \n",
        "                  'Brazil': 8514877}, name='area')\n",
        "population = pd.Series({'China': 1409517397, 'India': 1339180127,\n",
        "                        'USA': 324459463, 'Indonesia': 322179605, \n",
        "                        'Brazil': 207652865}, name='population')"
      ],
      "execution_count": null,
      "outputs": []
    },
    {
      "cell_type": "code",
      "metadata": {
        "trusted": true,
        "id": "ZqdY2iVucOdF",
        "colab_type": "code",
        "colab": {}
      },
      "source": [
        "# Now divide these to compute the population density\n"
      ],
      "execution_count": null,
      "outputs": []
    },
    {
      "cell_type": "markdown",
      "metadata": {
        "id": "nWu5D7LpcOdJ",
        "colab_type": "text"
      },
      "source": [
        "Your resulting array contains the **union** of indices of the two input arrays: seven countries in total. All of the countries in the array without an entry (because they lacked either area data or population data) are marked with the now familiar ``NaN``, or \"Not a Number,\" designation.\n",
        "\n",
        "Index matching works the same way built-in Python arithmetic expressions and missing values are filled in with `NaN`s. You can see this clearly by adding two `Series` that are slightly misaligned in their indices:"
      ]
    },
    {
      "cell_type": "code",
      "metadata": {
        "trusted": true,
        "id": "wjsx3WM0cOdN",
        "colab_type": "code",
        "colab": {}
      },
      "source": [
        "series1 = pd.Series([2, 4, 6], index=[0, 1, 2])\n",
        "series2 = pd.Series([3, 5, 7], index=[1, 2, 3])\n",
        "series1 + series2"
      ],
      "execution_count": null,
      "outputs": []
    },
    {
      "cell_type": "markdown",
      "metadata": {
        "id": "MQHyXK3OcOdQ",
        "colab_type": "text"
      },
      "source": [
        "`NaN` values are not always convenient to work with; `NaN` combined with any other values results in `NaN`, which can be a pain, particulalry if you are combining multiple data sources with missing values. To help with this, pandas allows you to specify a default value to use for missing values in the operation. For example, calling `series1.add(series2)` is equivalent to calling `series1 + series2`, but you can supply the fill value:"
      ]
    },
    {
      "cell_type": "code",
      "metadata": {
        "trusted": true,
        "id": "H5kQ-YKMcOdR",
        "colab_type": "code",
        "colab": {}
      },
      "source": [
        "series1.add(series2, fill_value=0)"
      ],
      "execution_count": null,
      "outputs": []
    },
    {
      "cell_type": "markdown",
      "metadata": {
        "id": "B3SI0vMOcOdU",
        "colab_type": "text"
      },
      "source": [
        "Much better!"
      ]
    },
    {
      "cell_type": "markdown",
      "metadata": {
        "id": "AwYVQ55ocOdV",
        "colab_type": "text"
      },
      "source": [
        "### Index alignment with DataFrames\n",
        "\n",
        "The same kind of alignment takes place in both dimension (columns and indices) when you perform operations on ``DataFrame``s."
      ]
    },
    {
      "cell_type": "code",
      "metadata": {
        "trusted": true,
        "id": "3Kz4YPKrcOdV",
        "colab_type": "code",
        "colab": {}
      },
      "source": [
        "df1 = pd.DataFrame(rng.randint(0, 20, (2, 2)),\n",
        "                   columns=list('AB'))\n",
        "df1"
      ],
      "execution_count": null,
      "outputs": []
    },
    {
      "cell_type": "code",
      "metadata": {
        "trusted": true,
        "id": "FiMN_O24cOdX",
        "colab_type": "code",
        "colab": {}
      },
      "source": [
        "df2 = pd.DataFrame(rng.randint(0, 10, (3, 3)),\n",
        "                   columns=list('BAC'))\n",
        "df2"
      ],
      "execution_count": null,
      "outputs": []
    },
    {
      "cell_type": "code",
      "metadata": {
        "trusted": true,
        "id": "kA2U9gDAcOdY",
        "colab_type": "code",
        "colab": {}
      },
      "source": [
        "# Add df1 and df2. Is the output what you expected?"
      ],
      "execution_count": null,
      "outputs": []
    },
    {
      "cell_type": "markdown",
      "metadata": {
        "id": "jzdyH5o7cOda",
        "colab_type": "text"
      },
      "source": [
        "Even though we passed the columns in a different order in `df2` than in `df1`, the indices were aligned correctly sorted in the resulting union of columns.\n",
        "\n",
        "You can also use fill values for missing values with `Data Frame`s. In this example, let's fill the missing values with the mean of all values in `df1` (computed by first stacking the rows of `df1`):"
      ]
    },
    {
      "cell_type": "code",
      "metadata": {
        "trusted": true,
        "id": "D8rvoxVQcOda",
        "colab_type": "code",
        "colab": {}
      },
      "source": [
        "fill = df1.stack().mean()\n",
        "df1.add(df2, fill_value=fill)"
      ],
      "execution_count": null,
      "outputs": []
    },
    {
      "cell_type": "markdown",
      "metadata": {
        "id": "nL-HMCjicOdc",
        "colab_type": "text"
      },
      "source": [
        "This table lists Python operators and their equivalent pandas object methods:\n",
        "\n",
        "| Python Operator | Pandas Method(s)                      |\n",
        "|-----------------|---------------------------------------|\n",
        "| ``+``           | ``add()``                             |\n",
        "| ``-``           | ``sub()``, ``subtract()``             |\n",
        "| ``*``           | ``mul()``, ``multiply()``             |\n",
        "| ``/``           | ``truediv()``, ``div()``, ``divide()``|\n",
        "| ``//``          | ``floordiv()``                        |\n",
        "| ``%``           | ``mod()``                             |\n",
        "| ``**``          | ``pow()``                             |\n"
      ]
    },
    {
      "cell_type": "markdown",
      "metadata": {
        "id": "syilASoEcOdc",
        "colab_type": "text"
      },
      "source": [
        "## Operations between DataFrames and Series\n",
        "\n",
        "Index and column alignment gets maintained in operations between a `DataFrame` and a `Series` as well. To see this, consider a common operation in data science, wherein we find the difference of a `DataFrame` and one of its rows. Because pandas inherits ufuncs from NumPy, pandas will compute the difference row-wise by default:"
      ]
    },
    {
      "cell_type": "code",
      "metadata": {
        "trusted": true,
        "id": "mpaYEWG7cOdd",
        "colab_type": "code",
        "colab": {}
      },
      "source": [
        "df3 = pd.DataFrame(rng.randint(10, size=(3, 4)), columns=list('WXYZ'))\n",
        "df3"
      ],
      "execution_count": null,
      "outputs": []
    },
    {
      "cell_type": "code",
      "metadata": {
        "trusted": true,
        "id": "BfJcpEpqcOde",
        "colab_type": "code",
        "colab": {}
      },
      "source": [
        "df3 - df3.iloc[0]"
      ],
      "execution_count": null,
      "outputs": []
    },
    {
      "cell_type": "markdown",
      "metadata": {
        "id": "bD0h3k_8cOdg",
        "colab_type": "text"
      },
      "source": [
        "But what if you need to operate column-wise? You can do this by using object methodsand specifying the ``axis`` keyword."
      ]
    },
    {
      "cell_type": "code",
      "metadata": {
        "trusted": true,
        "id": "AaqDuds4cOdh",
        "colab_type": "code",
        "colab": {}
      },
      "source": [
        "df3.subtract(df3['X'], axis=0)"
      ],
      "execution_count": null,
      "outputs": []
    },
    {
      "cell_type": "markdown",
      "metadata": {
        "id": "Ts8nvZ3ecOdi",
        "colab_type": "text"
      },
      "source": [
        "And when you do operations between `DataFrame`s and `Series` operations, you still get automatic index alignment:"
      ]
    },
    {
      "cell_type": "code",
      "metadata": {
        "trusted": true,
        "id": "nGTdr-yRcOdi",
        "colab_type": "code",
        "colab": {}
      },
      "source": [
        "halfrow = df3.iloc[0, ::2]\n",
        "halfrow"
      ],
      "execution_count": null,
      "outputs": []
    },
    {
      "cell_type": "markdown",
      "metadata": {
        "id": "kjbkoOJgcOdk",
        "colab_type": "text"
      },
      "source": [
        "Note that the output from that operation was transposed. That was so that we can subtract it from the `DataFrame`:"
      ]
    },
    {
      "cell_type": "code",
      "metadata": {
        "trusted": true,
        "id": "5fWwheXjcOdk",
        "colab_type": "code",
        "colab": {}
      },
      "source": [
        "df3 - halfrow"
      ],
      "execution_count": null,
      "outputs": []
    },
    {
      "cell_type": "markdown",
      "metadata": {
        "id": "q_PMCcqGcOdo",
        "colab_type": "text"
      },
      "source": [
        "Remember, pandas preserves and aligns indices and columns so preserve data context. This will be of huge help to you in our next section when we look at data cleaning and preparation."
      ]
    }
  ]
}